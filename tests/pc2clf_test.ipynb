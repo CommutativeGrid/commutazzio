{
 "cells": [
  {
   "cell_type": "code",
   "execution_count": 1,
   "metadata": {},
   "outputs": [],
   "source": [
    "from commutazzio.filtration import pointCloud2Filtration\n",
    "import numpy as np"
   ]
  },
  {
   "cell_type": "code",
   "execution_count": 2,
   "metadata": {},
   "outputs": [],
   "source": [
    "# 100 points in 3D\n",
    "# fix the seed for reproducibility\n",
    "np.random.seed(0)\n",
    "pts = np.random.rand(100,3)\n",
    "# random integers between 0 and 99, no repeats\n",
    "# fix the seed for reproducibility\n",
    "np.random.seed(1)\n",
    "vertical_removal_input = np.random.choice(100,10,replace=False)\n",
    "radii=np.linspace(0,1,10)"
   ]
  },
  {
   "cell_type": "code",
   "execution_count": 3,
   "metadata": {},
   "outputs": [
    {
     "name": "stdout",
     "output_type": "stream",
     "text": [
      "Creating filtration...\n",
      "Progress: 10.00%\n",
      "Progress: 20.00%\n",
      "Progress: 30.00%\n",
      "Progress: 40.00%\n",
      "Progress: 50.00%\n",
      "Progress: 60.00%\n",
      "Progress: 70.00%\n",
      "Progress: 80.00%\n",
      "Progress: 90.00%\n",
      "Progress: 100.00%\n",
      "CLFiltration:ordinal number filtration values detected, will not rescale.\n",
      "8.787006855010986\n"
     ]
    }
   ],
   "source": [
    "# run once, get time\n",
    "import time\n",
    "start = time.time()\n",
    "www=pointCloud2Filtration(pts,vertical_removal_input,radii,max_simplex_dim=2)\n",
    "end = time.time()\n",
    "print(end - start)"
   ]
  },
  {
   "cell_type": "code",
   "execution_count": 4,
   "metadata": {},
   "outputs": [
    {
     "data": {
      "text/plain": [
       "a simplicial complex with 166750 simplices"
      ]
     },
     "execution_count": 4,
     "metadata": {},
     "output_type": "execute_result"
    }
   ],
   "source": [
    "www.upper.maximum_simplices\n"
   ]
  },
  {
   "cell_type": "code",
   "execution_count": 5,
   "metadata": {},
   "outputs": [
    {
     "data": {
      "text/plain": [
       "a simplicial complex with 121575 simplices"
      ]
     },
     "execution_count": 5,
     "metadata": {},
     "output_type": "execute_result"
    }
   ],
   "source": [
    "www.lower.maximum_simplices"
   ]
  }
 ],
 "metadata": {
  "kernelspec": {
   "display_name": "TDA",
   "language": "python",
   "name": "python3"
  },
  "language_info": {
   "codemirror_mode": {
    "name": "ipython",
    "version": 3
   },
   "file_extension": ".py",
   "mimetype": "text/x-python",
   "name": "python",
   "nbconvert_exporter": "python",
   "pygments_lexer": "ipython3",
   "version": "3.10.11"
  },
  "orig_nbformat": 4
 },
 "nbformat": 4,
 "nbformat_minor": 2
}
