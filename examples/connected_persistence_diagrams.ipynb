{
 "cells": [
  {
   "cell_type": "code",
   "execution_count": 1,
   "id": "94e05ff8",
   "metadata": {},
   "outputs": [
    {
     "name": "stdout",
     "output_type": "stream",
     "text": [
      "''\n"
     ]
    }
   ],
   "source": [
    "import numpy as np\n",
    "import pandas as pd\n",
    "import os\n",
    "from math import sqrt\n",
    "from commutazzio.plot import CechCL4Viz"
   ]
  },
  {
   "cell_type": "code",
   "execution_count": 2,
   "id": "f4c955b1",
   "metadata": {},
   "outputs": [],
   "source": [
    "# Specify the location of points\n",
    "A=np.array((0,0))\n",
    "B=np.array((2*sqrt(3),0))\n",
    "C=np.array((sqrt(3),3))\n",
    "D=np.array((sqrt(3),1))\n",
    "E=np.array((-sqrt(3),3))\n",
    "F=np.array((0,2))"
   ]
  },
  {
   "cell_type": "code",
   "execution_count": 3,
   "id": "703836d2",
   "metadata": {},
   "outputs": [
    {
     "name": "stdout",
     "output_type": "stream",
     "text": [
      "using cech complex\n",
      "using cech complex\n",
      "using cech complex\n",
      "using cech complex\n"
     ]
    }
   ],
   "source": [
    "# Specify the point clouds\n",
    "points_a_upper=np.array([A,B,C,E,F])\n",
    "points_b_upper=np.array([A,B,C,D,E])\n",
    "deletion_list_a=[3,4] # delete the 3rd and 4th points from the point cloud to create the lower point cloud\n",
    "# points_a_lower=np.array([A,B,C])\n",
    "deletion_list_b=[3,4]\n",
    "# points_b_lower=np.array([A,B,C])\n",
    "radii=[0,1,sqrt(3),2] # specify the radii for the filtration\n",
    "# Create objects used for visualizing the simplicial complexes built from the point clouds\n",
    "viz_a=CechCL4Viz(points_a_upper,deletion_list_a)\n",
    "viz_b=CechCL4Viz(points_b_upper,deletion_list_b)\n",
    "\n"
   ]
  },
  {
   "cell_type": "markdown",
   "id": "e90963dc",
   "metadata": {},
   "source": [
    "## Visualization of the two filtrations"
   ]
  },
  {
   "cell_type": "code",
   "execution_count": 4,
   "id": "e2aa716f",
   "metadata": {},
   "outputs": [
    {
     "data": {
      "application/vnd.plotly.v1+json": {
       "config": {
        "plotlyServerURL": "https://plot.ly"
       },
       "data": [
        {
         "fillcolor": "red",
         "line": {
          "color": "rgba(247,148,29,0.9)",
          "width": 2
         },
         "mode": "lines",
         "type": "scatter",
         "x": [],
         "xaxis": "x",
         "y": [],
         "yaxis": "y"
        },
        {
         "marker": {
          "color": "rgba(0,174,239,1)",
          "size": 6
         },
         "mode": "markers",
         "type": "scatter",
         "x": [
          0,
          3.4641016151377544,
          1.7320508075688772,
          -1.7320508075688772,
          0
         ],
         "xaxis": "x",
         "y": [
          0,
          0,
          3,
          3,
          2
         ],
         "yaxis": "y"
        },
        {
         "fillcolor": "red",
         "line": {
          "color": "rgba(247,148,29,0.9)",
          "width": 2
         },
         "mode": "lines",
         "type": "scatter",
         "x": [],
         "xaxis": "x5",
         "y": [],
         "yaxis": "y5"
        },
        {
         "marker": {
          "color": "rgba(0,174,239,1)",
          "size": 6
         },
         "mode": "markers",
         "type": "scatter",
         "x": [
          0,
          3.4641016151377544,
          1.7320508075688772
         ],
         "xaxis": "x5",
         "y": [
          0,
          0,
          3
         ],
         "yaxis": "y5"
        },
        {
         "fillcolor": "red",
         "line": {
          "color": "rgba(247,148,29,0.9)",
          "width": 2
         },
         "mode": "lines",
         "type": "scatter",
         "x": [
          0,
          0,
          null,
          1.7320508075688772,
          0,
          null,
          -1.7320508075688772,
          0,
          null
         ],
         "xaxis": "x2",
         "y": [
          0,
          2,
          null,
          3,
          2,
          null,
          3,
          2,
          null
         ],
         "yaxis": "y2"
        },
        {
         "marker": {
          "color": "rgba(0,174,239,1)",
          "size": 6
         },
         "mode": "markers",
         "type": "scatter",
         "x": [
          0,
          3.4641016151377544,
          1.7320508075688772,
          -1.7320508075688772,
          0
         ],
         "xaxis": "x2",
         "y": [
          0,
          0,
          3,
          3,
          2
         ],
         "yaxis": "y2"
        },
        {
         "fillcolor": "red",
         "line": {
          "color": "rgba(247,148,29,0.9)",
          "width": 2
         },
         "mode": "lines",
         "type": "scatter",
         "x": [],
         "xaxis": "x6",
         "y": [],
         "yaxis": "y6"
        },
        {
         "marker": {
          "color": "rgba(0,174,239,1)",
          "size": 6
         },
         "mode": "markers",
         "type": "scatter",
         "x": [
          0,
          3.4641016151377544,
          1.7320508075688772
         ],
         "xaxis": "x6",
         "y": [
          0,
          0,
          3
         ],
         "yaxis": "y6"
        },
        {
         "fill": "toself",
         "fillcolor": "rgba(0,174,239,0.35)",
         "mode": "none",
         "type": "scatter",
         "x": [
          0,
          1.7320508075688772,
          0
         ],
         "xaxis": "x3",
         "y": [
          0,
          3,
          2
         ],
         "yaxis": "y3"
        },
        {
         "fill": "toself",
         "fillcolor": "rgba(0,174,239,0.35)",
         "mode": "none",
         "type": "scatter",
         "x": [
          0,
          -1.7320508075688772,
          0
         ],
         "xaxis": "x3",
         "y": [
          0,
          3,
          2
         ],
         "yaxis": "y3"
        },
        {
         "fill": "toself",
         "fillcolor": "rgba(0,174,239,0.35)",
         "mode": "none",
         "type": "scatter",
         "x": [
          1.7320508075688772,
          -1.7320508075688772,
          0
         ],
         "xaxis": "x3",
         "y": [
          3,
          3,
          2
         ],
         "yaxis": "y3"
        },
        {
         "fillcolor": "red",
         "line": {
          "color": "rgba(247,148,29,0.9)",
          "width": 2
         },
         "mode": "lines",
         "type": "scatter",
         "x": [
          0,
          3.4641016151377544,
          null,
          0,
          1.7320508075688772,
          null,
          0,
          -1.7320508075688772,
          null,
          0,
          0,
          null,
          3.4641016151377544,
          1.7320508075688772,
          null,
          1.7320508075688772,
          -1.7320508075688772,
          null,
          1.7320508075688772,
          0,
          null,
          -1.7320508075688772,
          0,
          null
         ],
         "xaxis": "x3",
         "y": [
          0,
          0,
          null,
          0,
          3,
          null,
          0,
          3,
          null,
          0,
          2,
          null,
          0,
          3,
          null,
          3,
          3,
          null,
          3,
          2,
          null,
          3,
          2,
          null
         ],
         "yaxis": "y3"
        },
        {
         "marker": {
          "color": "rgba(0,174,239,1)",
          "size": 6
         },
         "mode": "markers",
         "type": "scatter",
         "x": [
          0,
          3.4641016151377544,
          1.7320508075688772,
          -1.7320508075688772,
          0
         ],
         "xaxis": "x3",
         "y": [
          0,
          0,
          3,
          3,
          2
         ],
         "yaxis": "y3"
        },
        {
         "fillcolor": "red",
         "line": {
          "color": "rgba(247,148,29,0.9)",
          "width": 2
         },
         "mode": "lines",
         "type": "scatter",
         "x": [
          0,
          3.4641016151377544,
          null,
          0,
          1.7320508075688772,
          null,
          3.4641016151377544,
          1.7320508075688772,
          null
         ],
         "xaxis": "x7",
         "y": [
          0,
          0,
          null,
          0,
          3,
          null,
          0,
          3,
          null
         ],
         "yaxis": "y7"
        },
        {
         "marker": {
          "color": "rgba(0,174,239,1)",
          "size": 6
         },
         "mode": "markers",
         "type": "scatter",
         "x": [
          0,
          3.4641016151377544,
          1.7320508075688772
         ],
         "xaxis": "x7",
         "y": [
          0,
          0,
          3
         ],
         "yaxis": "y7"
        },
        {
         "fill": "toself",
         "fillcolor": "rgba(0,174,239,0.35)",
         "mode": "none",
         "type": "scatter",
         "x": [
          0,
          3.4641016151377544,
          1.7320508075688772
         ],
         "xaxis": "x4",
         "y": [
          0,
          0,
          3
         ],
         "yaxis": "y4"
        },
        {
         "fill": "toself",
         "fillcolor": "rgba(0,174,239,0.35)",
         "mode": "none",
         "type": "scatter",
         "x": [
          0,
          3.4641016151377544,
          0
         ],
         "xaxis": "x4",
         "y": [
          0,
          0,
          2
         ],
         "yaxis": "y4"
        },
        {
         "fill": "toself",
         "fillcolor": "rgba(0,174,239,0.35)",
         "mode": "none",
         "type": "scatter",
         "x": [
          0,
          1.7320508075688772,
          -1.7320508075688772
         ],
         "xaxis": "x4",
         "y": [
          0,
          3,
          3
         ],
         "yaxis": "y4"
        },
        {
         "fill": "toself",
         "fillcolor": "rgba(0,174,239,0.35)",
         "mode": "none",
         "type": "scatter",
         "x": [
          0,
          1.7320508075688772,
          0
         ],
         "xaxis": "x4",
         "y": [
          0,
          3,
          2
         ],
         "yaxis": "y4"
        },
        {
         "fill": "toself",
         "fillcolor": "rgba(0,174,239,0.35)",
         "mode": "none",
         "type": "scatter",
         "x": [
          0,
          -1.7320508075688772,
          0
         ],
         "xaxis": "x4",
         "y": [
          0,
          3,
          2
         ],
         "yaxis": "y4"
        },
        {
         "fill": "toself",
         "fillcolor": "rgba(0,174,239,0.35)",
         "mode": "none",
         "type": "scatter",
         "x": [
          3.4641016151377544,
          1.7320508075688772,
          0
         ],
         "xaxis": "x4",
         "y": [
          0,
          3,
          2
         ],
         "yaxis": "y4"
        },
        {
         "fill": "toself",
         "fillcolor": "rgba(0,174,239,0.35)",
         "mode": "none",
         "type": "scatter",
         "x": [
          1.7320508075688772,
          -1.7320508075688772,
          0
         ],
         "xaxis": "x4",
         "y": [
          3,
          3,
          2
         ],
         "yaxis": "y4"
        },
        {
         "fillcolor": "red",
         "line": {
          "color": "rgba(247,148,29,0.9)",
          "width": 2
         },
         "mode": "lines",
         "type": "scatter",
         "x": [
          0,
          3.4641016151377544,
          null,
          0,
          1.7320508075688772,
          null,
          0,
          -1.7320508075688772,
          null,
          0,
          0,
          null,
          3.4641016151377544,
          1.7320508075688772,
          null,
          3.4641016151377544,
          0,
          null,
          1.7320508075688772,
          -1.7320508075688772,
          null,
          1.7320508075688772,
          0,
          null,
          -1.7320508075688772,
          0,
          null
         ],
         "xaxis": "x4",
         "y": [
          0,
          0,
          null,
          0,
          3,
          null,
          0,
          3,
          null,
          0,
          2,
          null,
          0,
          3,
          null,
          0,
          2,
          null,
          3,
          3,
          null,
          3,
          2,
          null,
          3,
          2,
          null
         ],
         "yaxis": "y4"
        },
        {
         "marker": {
          "color": "rgba(0,174,239,1)",
          "size": 6
         },
         "mode": "markers",
         "type": "scatter",
         "x": [
          0,
          3.4641016151377544,
          1.7320508075688772,
          -1.7320508075688772,
          0
         ],
         "xaxis": "x4",
         "y": [
          0,
          0,
          3,
          3,
          2
         ],
         "yaxis": "y4"
        },
        {
         "fill": "toself",
         "fillcolor": "rgba(0,174,239,0.35)",
         "mode": "none",
         "type": "scatter",
         "x": [
          0,
          3.4641016151377544,
          1.7320508075688772
         ],
         "xaxis": "x8",
         "y": [
          0,
          0,
          3
         ],
         "yaxis": "y8"
        },
        {
         "fillcolor": "red",
         "line": {
          "color": "rgba(247,148,29,0.9)",
          "width": 2
         },
         "mode": "lines",
         "type": "scatter",
         "x": [
          0,
          3.4641016151377544,
          null,
          0,
          1.7320508075688772,
          null,
          3.4641016151377544,
          1.7320508075688772,
          null
         ],
         "xaxis": "x8",
         "y": [
          0,
          0,
          null,
          0,
          3,
          null,
          0,
          3,
          null
         ],
         "yaxis": "y8"
        },
        {
         "marker": {
          "color": "rgba(0,174,239,1)",
          "size": 6
         },
         "mode": "markers",
         "type": "scatter",
         "x": [
          0,
          3.4641016151377544,
          1.7320508075688772
         ],
         "xaxis": "x8",
         "y": [
          0,
          0,
          3
         ],
         "yaxis": "y8"
        }
       ],
       "layout": {
        "annotations": [
         {
          "font": {
           "size": 16
          },
          "showarrow": false,
          "text": "Radius: 0.00000",
          "x": 0.10625,
          "xanchor": "center",
          "xref": "paper",
          "y": 1,
          "yanchor": "bottom",
          "yref": "paper"
         },
         {
          "font": {
           "size": 16
          },
          "showarrow": false,
          "text": "Radius: 1.00000",
          "x": 0.36875,
          "xanchor": "center",
          "xref": "paper",
          "y": 1,
          "yanchor": "bottom",
          "yref": "paper"
         },
         {
          "font": {
           "size": 16
          },
          "showarrow": false,
          "text": "Radius: 1.73205",
          "x": 0.6312500000000001,
          "xanchor": "center",
          "xref": "paper",
          "y": 1,
          "yanchor": "bottom",
          "yref": "paper"
         },
         {
          "font": {
           "size": 16
          },
          "showarrow": false,
          "text": "Radius: 2.00000",
          "x": 0.89375,
          "xanchor": "center",
          "xref": "paper",
          "y": 1,
          "yanchor": "bottom",
          "yref": "paper"
         }
        ],
        "font": {
         "color": "#7f7f7f",
         "family": "Courier New, monospace",
         "size": 18
        },
        "height": 440,
        "hovermode": false,
        "paper_bgcolor": "rgba(0,0,0,0)",
        "plot_bgcolor": "rgba(0,0,0,0)",
        "shapes": [
         {
          "fillcolor": "rgba(0,174,239,0.05)",
          "layer": "below",
          "line": {
           "color": "rgba(0,174,239,1)",
           "width": 2
          },
          "type": "circle",
          "x0": 0,
          "x1": 0,
          "xref": "x",
          "y0": 0,
          "y1": 0,
          "yref": "y"
         },
         {
          "fillcolor": "rgba(0,174,239,0.05)",
          "layer": "below",
          "line": {
           "color": "rgba(0,174,239,1)",
           "width": 2
          },
          "type": "circle",
          "x0": 3.4641016151377544,
          "x1": 3.4641016151377544,
          "xref": "x",
          "y0": 0,
          "y1": 0,
          "yref": "y"
         },
         {
          "fillcolor": "rgba(0,174,239,0.05)",
          "layer": "below",
          "line": {
           "color": "rgba(0,174,239,1)",
           "width": 2
          },
          "type": "circle",
          "x0": 1.7320508075688772,
          "x1": 1.7320508075688772,
          "xref": "x",
          "y0": 3,
          "y1": 3,
          "yref": "y"
         },
         {
          "fillcolor": "rgba(0,174,239,0.05)",
          "layer": "below",
          "line": {
           "color": "rgba(0,174,239,1)",
           "width": 2
          },
          "type": "circle",
          "x0": -1.7320508075688772,
          "x1": -1.7320508075688772,
          "xref": "x",
          "y0": 3,
          "y1": 3,
          "yref": "y"
         },
         {
          "fillcolor": "rgba(0,174,239,0.05)",
          "layer": "below",
          "line": {
           "color": "rgba(0,174,239,1)",
           "width": 2
          },
          "type": "circle",
          "x0": 0,
          "x1": 0,
          "xref": "x",
          "y0": 2,
          "y1": 2,
          "yref": "y"
         },
         {
          "fillcolor": "rgba(0,174,239,0.05)",
          "layer": "below",
          "line": {
           "color": "rgba(0,174,239,1)",
           "width": 2
          },
          "type": "circle",
          "x0": 0,
          "x1": 0,
          "xref": "x5",
          "y0": 0,
          "y1": 0,
          "yref": "y5"
         },
         {
          "fillcolor": "rgba(0,174,239,0.05)",
          "layer": "below",
          "line": {
           "color": "rgba(0,174,239,1)",
           "width": 2
          },
          "type": "circle",
          "x0": 3.4641016151377544,
          "x1": 3.4641016151377544,
          "xref": "x5",
          "y0": 0,
          "y1": 0,
          "yref": "y5"
         },
         {
          "fillcolor": "rgba(0,174,239,0.05)",
          "layer": "below",
          "line": {
           "color": "rgba(0,174,239,1)",
           "width": 2
          },
          "type": "circle",
          "x0": 1.7320508075688772,
          "x1": 1.7320508075688772,
          "xref": "x5",
          "y0": 3,
          "y1": 3,
          "yref": "y5"
         },
         {
          "fillcolor": "rgba(0,174,239,0.05)",
          "layer": "below",
          "line": {
           "color": "rgba(0,174,239,1)",
           "width": 2
          },
          "type": "circle",
          "x0": -1,
          "x1": 1,
          "xref": "x2",
          "y0": -1,
          "y1": 1,
          "yref": "y2"
         },
         {
          "fillcolor": "rgba(0,174,239,0.05)",
          "layer": "below",
          "line": {
           "color": "rgba(0,174,239,1)",
           "width": 2
          },
          "type": "circle",
          "x0": 2.4641016151377544,
          "x1": 4.464101615137754,
          "xref": "x2",
          "y0": -1,
          "y1": 1,
          "yref": "y2"
         },
         {
          "fillcolor": "rgba(0,174,239,0.05)",
          "layer": "below",
          "line": {
           "color": "rgba(0,174,239,1)",
           "width": 2
          },
          "type": "circle",
          "x0": 0.7320508075688772,
          "x1": 2.732050807568877,
          "xref": "x2",
          "y0": 2,
          "y1": 4,
          "yref": "y2"
         },
         {
          "fillcolor": "rgba(0,174,239,0.05)",
          "layer": "below",
          "line": {
           "color": "rgba(0,174,239,1)",
           "width": 2
          },
          "type": "circle",
          "x0": -2.732050807568877,
          "x1": -0.7320508075688772,
          "xref": "x2",
          "y0": 2,
          "y1": 4,
          "yref": "y2"
         },
         {
          "fillcolor": "rgba(0,174,239,0.05)",
          "layer": "below",
          "line": {
           "color": "rgba(0,174,239,1)",
           "width": 2
          },
          "type": "circle",
          "x0": -1,
          "x1": 1,
          "xref": "x2",
          "y0": 1,
          "y1": 3,
          "yref": "y2"
         },
         {
          "fillcolor": "rgba(0,174,239,0.05)",
          "layer": "below",
          "line": {
           "color": "rgba(0,174,239,1)",
           "width": 2
          },
          "type": "circle",
          "x0": -1,
          "x1": 1,
          "xref": "x6",
          "y0": -1,
          "y1": 1,
          "yref": "y6"
         },
         {
          "fillcolor": "rgba(0,174,239,0.05)",
          "layer": "below",
          "line": {
           "color": "rgba(0,174,239,1)",
           "width": 2
          },
          "type": "circle",
          "x0": 2.4641016151377544,
          "x1": 4.464101615137754,
          "xref": "x6",
          "y0": -1,
          "y1": 1,
          "yref": "y6"
         },
         {
          "fillcolor": "rgba(0,174,239,0.05)",
          "layer": "below",
          "line": {
           "color": "rgba(0,174,239,1)",
           "width": 2
          },
          "type": "circle",
          "x0": 0.7320508075688772,
          "x1": 2.732050807568877,
          "xref": "x6",
          "y0": 2,
          "y1": 4,
          "yref": "y6"
         },
         {
          "fillcolor": "rgba(0,174,239,0.05)",
          "layer": "below",
          "line": {
           "color": "rgba(0,174,239,1)",
           "width": 2
          },
          "type": "circle",
          "x0": -1.7320508075688772,
          "x1": 1.7320508075688772,
          "xref": "x3",
          "y0": -1.7320508075688772,
          "y1": 1.7320508075688772,
          "yref": "y3"
         },
         {
          "fillcolor": "rgba(0,174,239,0.05)",
          "layer": "below",
          "line": {
           "color": "rgba(0,174,239,1)",
           "width": 2
          },
          "type": "circle",
          "x0": 1.7320508075688772,
          "x1": 5.196152422706632,
          "xref": "x3",
          "y0": -1.7320508075688772,
          "y1": 1.7320508075688772,
          "yref": "y3"
         },
         {
          "fillcolor": "rgba(0,174,239,0.05)",
          "layer": "below",
          "line": {
           "color": "rgba(0,174,239,1)",
           "width": 2
          },
          "type": "circle",
          "x0": 0,
          "x1": 3.4641016151377544,
          "xref": "x3",
          "y0": 1.2679491924311228,
          "y1": 4.732050807568877,
          "yref": "y3"
         },
         {
          "fillcolor": "rgba(0,174,239,0.05)",
          "layer": "below",
          "line": {
           "color": "rgba(0,174,239,1)",
           "width": 2
          },
          "type": "circle",
          "x0": -3.4641016151377544,
          "x1": 0,
          "xref": "x3",
          "y0": 1.2679491924311228,
          "y1": 4.732050807568877,
          "yref": "y3"
         },
         {
          "fillcolor": "rgba(0,174,239,0.05)",
          "layer": "below",
          "line": {
           "color": "rgba(0,174,239,1)",
           "width": 2
          },
          "type": "circle",
          "x0": -1.7320508075688772,
          "x1": 1.7320508075688772,
          "xref": "x3",
          "y0": 0.2679491924311228,
          "y1": 3.732050807568877,
          "yref": "y3"
         },
         {
          "fillcolor": "rgba(0,174,239,0.05)",
          "layer": "below",
          "line": {
           "color": "rgba(0,174,239,1)",
           "width": 2
          },
          "type": "circle",
          "x0": -1.7320508075688772,
          "x1": 1.7320508075688772,
          "xref": "x7",
          "y0": -1.7320508075688772,
          "y1": 1.7320508075688772,
          "yref": "y7"
         },
         {
          "fillcolor": "rgba(0,174,239,0.05)",
          "layer": "below",
          "line": {
           "color": "rgba(0,174,239,1)",
           "width": 2
          },
          "type": "circle",
          "x0": 1.7320508075688772,
          "x1": 5.196152422706632,
          "xref": "x7",
          "y0": -1.7320508075688772,
          "y1": 1.7320508075688772,
          "yref": "y7"
         },
         {
          "fillcolor": "rgba(0,174,239,0.05)",
          "layer": "below",
          "line": {
           "color": "rgba(0,174,239,1)",
           "width": 2
          },
          "type": "circle",
          "x0": 0,
          "x1": 3.4641016151377544,
          "xref": "x7",
          "y0": 1.2679491924311228,
          "y1": 4.732050807568877,
          "yref": "y7"
         },
         {
          "fillcolor": "rgba(0,174,239,0.05)",
          "layer": "below",
          "line": {
           "color": "rgba(0,174,239,1)",
           "width": 2
          },
          "type": "circle",
          "x0": -2,
          "x1": 2,
          "xref": "x4",
          "y0": -2,
          "y1": 2,
          "yref": "y4"
         },
         {
          "fillcolor": "rgba(0,174,239,0.05)",
          "layer": "below",
          "line": {
           "color": "rgba(0,174,239,1)",
           "width": 2
          },
          "type": "circle",
          "x0": 1.4641016151377544,
          "x1": 5.464101615137754,
          "xref": "x4",
          "y0": -2,
          "y1": 2,
          "yref": "y4"
         },
         {
          "fillcolor": "rgba(0,174,239,0.05)",
          "layer": "below",
          "line": {
           "color": "rgba(0,174,239,1)",
           "width": 2
          },
          "type": "circle",
          "x0": -0.2679491924311228,
          "x1": 3.732050807568877,
          "xref": "x4",
          "y0": 1,
          "y1": 5,
          "yref": "y4"
         },
         {
          "fillcolor": "rgba(0,174,239,0.05)",
          "layer": "below",
          "line": {
           "color": "rgba(0,174,239,1)",
           "width": 2
          },
          "type": "circle",
          "x0": -3.732050807568877,
          "x1": 0.2679491924311228,
          "xref": "x4",
          "y0": 1,
          "y1": 5,
          "yref": "y4"
         },
         {
          "fillcolor": "rgba(0,174,239,0.05)",
          "layer": "below",
          "line": {
           "color": "rgba(0,174,239,1)",
           "width": 2
          },
          "type": "circle",
          "x0": -2,
          "x1": 2,
          "xref": "x4",
          "y0": 0,
          "y1": 4,
          "yref": "y4"
         },
         {
          "fillcolor": "rgba(0,174,239,0.05)",
          "layer": "below",
          "line": {
           "color": "rgba(0,174,239,1)",
           "width": 2
          },
          "type": "circle",
          "x0": -2,
          "x1": 2,
          "xref": "x8",
          "y0": -2,
          "y1": 2,
          "yref": "y8"
         },
         {
          "fillcolor": "rgba(0,174,239,0.05)",
          "layer": "below",
          "line": {
           "color": "rgba(0,174,239,1)",
           "width": 2
          },
          "type": "circle",
          "x0": 1.4641016151377544,
          "x1": 5.464101615137754,
          "xref": "x8",
          "y0": -2,
          "y1": 2,
          "yref": "y8"
         },
         {
          "fillcolor": "rgba(0,174,239,0.05)",
          "layer": "below",
          "line": {
           "color": "rgba(0,174,239,1)",
           "width": 2
          },
          "type": "circle",
          "x0": -0.2679491924311228,
          "x1": 3.732050807568877,
          "xref": "x8",
          "y0": 1,
          "y1": 5,
          "yref": "y8"
         }
        ],
        "showlegend": false,
        "template": {
         "data": {
          "bar": [
           {
            "error_x": {
             "color": "#2a3f5f"
            },
            "error_y": {
             "color": "#2a3f5f"
            },
            "marker": {
             "line": {
              "color": "#E5ECF6",
              "width": 0.5
             },
             "pattern": {
              "fillmode": "overlay",
              "size": 10,
              "solidity": 0.2
             }
            },
            "type": "bar"
           }
          ],
          "barpolar": [
           {
            "marker": {
             "line": {
              "color": "#E5ECF6",
              "width": 0.5
             },
             "pattern": {
              "fillmode": "overlay",
              "size": 10,
              "solidity": 0.2
             }
            },
            "type": "barpolar"
           }
          ],
          "carpet": [
           {
            "aaxis": {
             "endlinecolor": "#2a3f5f",
             "gridcolor": "white",
             "linecolor": "white",
             "minorgridcolor": "white",
             "startlinecolor": "#2a3f5f"
            },
            "baxis": {
             "endlinecolor": "#2a3f5f",
             "gridcolor": "white",
             "linecolor": "white",
             "minorgridcolor": "white",
             "startlinecolor": "#2a3f5f"
            },
            "type": "carpet"
           }
          ],
          "choropleth": [
           {
            "colorbar": {
             "outlinewidth": 0,
             "ticks": ""
            },
            "type": "choropleth"
           }
          ],
          "contour": [
           {
            "colorbar": {
             "outlinewidth": 0,
             "ticks": ""
            },
            "colorscale": [
             [
              0,
              "#0d0887"
             ],
             [
              0.1111111111111111,
              "#46039f"
             ],
             [
              0.2222222222222222,
              "#7201a8"
             ],
             [
              0.3333333333333333,
              "#9c179e"
             ],
             [
              0.4444444444444444,
              "#bd3786"
             ],
             [
              0.5555555555555556,
              "#d8576b"
             ],
             [
              0.6666666666666666,
              "#ed7953"
             ],
             [
              0.7777777777777778,
              "#fb9f3a"
             ],
             [
              0.8888888888888888,
              "#fdca26"
             ],
             [
              1,
              "#f0f921"
             ]
            ],
            "type": "contour"
           }
          ],
          "contourcarpet": [
           {
            "colorbar": {
             "outlinewidth": 0,
             "ticks": ""
            },
            "type": "contourcarpet"
           }
          ],
          "heatmap": [
           {
            "colorbar": {
             "outlinewidth": 0,
             "ticks": ""
            },
            "colorscale": [
             [
              0,
              "#0d0887"
             ],
             [
              0.1111111111111111,
              "#46039f"
             ],
             [
              0.2222222222222222,
              "#7201a8"
             ],
             [
              0.3333333333333333,
              "#9c179e"
             ],
             [
              0.4444444444444444,
              "#bd3786"
             ],
             [
              0.5555555555555556,
              "#d8576b"
             ],
             [
              0.6666666666666666,
              "#ed7953"
             ],
             [
              0.7777777777777778,
              "#fb9f3a"
             ],
             [
              0.8888888888888888,
              "#fdca26"
             ],
             [
              1,
              "#f0f921"
             ]
            ],
            "type": "heatmap"
           }
          ],
          "heatmapgl": [
           {
            "colorbar": {
             "outlinewidth": 0,
             "ticks": ""
            },
            "colorscale": [
             [
              0,
              "#0d0887"
             ],
             [
              0.1111111111111111,
              "#46039f"
             ],
             [
              0.2222222222222222,
              "#7201a8"
             ],
             [
              0.3333333333333333,
              "#9c179e"
             ],
             [
              0.4444444444444444,
              "#bd3786"
             ],
             [
              0.5555555555555556,
              "#d8576b"
             ],
             [
              0.6666666666666666,
              "#ed7953"
             ],
             [
              0.7777777777777778,
              "#fb9f3a"
             ],
             [
              0.8888888888888888,
              "#fdca26"
             ],
             [
              1,
              "#f0f921"
             ]
            ],
            "type": "heatmapgl"
           }
          ],
          "histogram": [
           {
            "marker": {
             "pattern": {
              "fillmode": "overlay",
              "size": 10,
              "solidity": 0.2
             }
            },
            "type": "histogram"
           }
          ],
          "histogram2d": [
           {
            "colorbar": {
             "outlinewidth": 0,
             "ticks": ""
            },
            "colorscale": [
             [
              0,
              "#0d0887"
             ],
             [
              0.1111111111111111,
              "#46039f"
             ],
             [
              0.2222222222222222,
              "#7201a8"
             ],
             [
              0.3333333333333333,
              "#9c179e"
             ],
             [
              0.4444444444444444,
              "#bd3786"
             ],
             [
              0.5555555555555556,
              "#d8576b"
             ],
             [
              0.6666666666666666,
              "#ed7953"
             ],
             [
              0.7777777777777778,
              "#fb9f3a"
             ],
             [
              0.8888888888888888,
              "#fdca26"
             ],
             [
              1,
              "#f0f921"
             ]
            ],
            "type": "histogram2d"
           }
          ],
          "histogram2dcontour": [
           {
            "colorbar": {
             "outlinewidth": 0,
             "ticks": ""
            },
            "colorscale": [
             [
              0,
              "#0d0887"
             ],
             [
              0.1111111111111111,
              "#46039f"
             ],
             [
              0.2222222222222222,
              "#7201a8"
             ],
             [
              0.3333333333333333,
              "#9c179e"
             ],
             [
              0.4444444444444444,
              "#bd3786"
             ],
             [
              0.5555555555555556,
              "#d8576b"
             ],
             [
              0.6666666666666666,
              "#ed7953"
             ],
             [
              0.7777777777777778,
              "#fb9f3a"
             ],
             [
              0.8888888888888888,
              "#fdca26"
             ],
             [
              1,
              "#f0f921"
             ]
            ],
            "type": "histogram2dcontour"
           }
          ],
          "mesh3d": [
           {
            "colorbar": {
             "outlinewidth": 0,
             "ticks": ""
            },
            "type": "mesh3d"
           }
          ],
          "parcoords": [
           {
            "line": {
             "colorbar": {
              "outlinewidth": 0,
              "ticks": ""
             }
            },
            "type": "parcoords"
           }
          ],
          "pie": [
           {
            "automargin": true,
            "type": "pie"
           }
          ],
          "scatter": [
           {
            "fillpattern": {
             "fillmode": "overlay",
             "size": 10,
             "solidity": 0.2
            },
            "type": "scatter"
           }
          ],
          "scatter3d": [
           {
            "line": {
             "colorbar": {
              "outlinewidth": 0,
              "ticks": ""
             }
            },
            "marker": {
             "colorbar": {
              "outlinewidth": 0,
              "ticks": ""
             }
            },
            "type": "scatter3d"
           }
          ],
          "scattercarpet": [
           {
            "marker": {
             "colorbar": {
              "outlinewidth": 0,
              "ticks": ""
             }
            },
            "type": "scattercarpet"
           }
          ],
          "scattergeo": [
           {
            "marker": {
             "colorbar": {
              "outlinewidth": 0,
              "ticks": ""
             }
            },
            "type": "scattergeo"
           }
          ],
          "scattergl": [
           {
            "marker": {
             "colorbar": {
              "outlinewidth": 0,
              "ticks": ""
             }
            },
            "type": "scattergl"
           }
          ],
          "scattermapbox": [
           {
            "marker": {
             "colorbar": {
              "outlinewidth": 0,
              "ticks": ""
             }
            },
            "type": "scattermapbox"
           }
          ],
          "scatterpolar": [
           {
            "marker": {
             "colorbar": {
              "outlinewidth": 0,
              "ticks": ""
             }
            },
            "type": "scatterpolar"
           }
          ],
          "scatterpolargl": [
           {
            "marker": {
             "colorbar": {
              "outlinewidth": 0,
              "ticks": ""
             }
            },
            "type": "scatterpolargl"
           }
          ],
          "scatterternary": [
           {
            "marker": {
             "colorbar": {
              "outlinewidth": 0,
              "ticks": ""
             }
            },
            "type": "scatterternary"
           }
          ],
          "surface": [
           {
            "colorbar": {
             "outlinewidth": 0,
             "ticks": ""
            },
            "colorscale": [
             [
              0,
              "#0d0887"
             ],
             [
              0.1111111111111111,
              "#46039f"
             ],
             [
              0.2222222222222222,
              "#7201a8"
             ],
             [
              0.3333333333333333,
              "#9c179e"
             ],
             [
              0.4444444444444444,
              "#bd3786"
             ],
             [
              0.5555555555555556,
              "#d8576b"
             ],
             [
              0.6666666666666666,
              "#ed7953"
             ],
             [
              0.7777777777777778,
              "#fb9f3a"
             ],
             [
              0.8888888888888888,
              "#fdca26"
             ],
             [
              1,
              "#f0f921"
             ]
            ],
            "type": "surface"
           }
          ],
          "table": [
           {
            "cells": {
             "fill": {
              "color": "#EBF0F8"
             },
             "line": {
              "color": "white"
             }
            },
            "header": {
             "fill": {
              "color": "#C8D4E3"
             },
             "line": {
              "color": "white"
             }
            },
            "type": "table"
           }
          ]
         },
         "layout": {
          "annotationdefaults": {
           "arrowcolor": "#2a3f5f",
           "arrowhead": 0,
           "arrowwidth": 1
          },
          "autotypenumbers": "strict",
          "coloraxis": {
           "colorbar": {
            "outlinewidth": 0,
            "ticks": ""
           }
          },
          "colorscale": {
           "diverging": [
            [
             0,
             "#8e0152"
            ],
            [
             0.1,
             "#c51b7d"
            ],
            [
             0.2,
             "#de77ae"
            ],
            [
             0.3,
             "#f1b6da"
            ],
            [
             0.4,
             "#fde0ef"
            ],
            [
             0.5,
             "#f7f7f7"
            ],
            [
             0.6,
             "#e6f5d0"
            ],
            [
             0.7,
             "#b8e186"
            ],
            [
             0.8,
             "#7fbc41"
            ],
            [
             0.9,
             "#4d9221"
            ],
            [
             1,
             "#276419"
            ]
           ],
           "sequential": [
            [
             0,
             "#0d0887"
            ],
            [
             0.1111111111111111,
             "#46039f"
            ],
            [
             0.2222222222222222,
             "#7201a8"
            ],
            [
             0.3333333333333333,
             "#9c179e"
            ],
            [
             0.4444444444444444,
             "#bd3786"
            ],
            [
             0.5555555555555556,
             "#d8576b"
            ],
            [
             0.6666666666666666,
             "#ed7953"
            ],
            [
             0.7777777777777778,
             "#fb9f3a"
            ],
            [
             0.8888888888888888,
             "#fdca26"
            ],
            [
             1,
             "#f0f921"
            ]
           ],
           "sequentialminus": [
            [
             0,
             "#0d0887"
            ],
            [
             0.1111111111111111,
             "#46039f"
            ],
            [
             0.2222222222222222,
             "#7201a8"
            ],
            [
             0.3333333333333333,
             "#9c179e"
            ],
            [
             0.4444444444444444,
             "#bd3786"
            ],
            [
             0.5555555555555556,
             "#d8576b"
            ],
            [
             0.6666666666666666,
             "#ed7953"
            ],
            [
             0.7777777777777778,
             "#fb9f3a"
            ],
            [
             0.8888888888888888,
             "#fdca26"
            ],
            [
             1,
             "#f0f921"
            ]
           ]
          },
          "colorway": [
           "#636efa",
           "#EF553B",
           "#00cc96",
           "#ab63fa",
           "#FFA15A",
           "#19d3f3",
           "#FF6692",
           "#B6E880",
           "#FF97FF",
           "#FECB52"
          ],
          "font": {
           "color": "#2a3f5f"
          },
          "geo": {
           "bgcolor": "white",
           "lakecolor": "white",
           "landcolor": "#E5ECF6",
           "showlakes": true,
           "showland": true,
           "subunitcolor": "white"
          },
          "hoverlabel": {
           "align": "left"
          },
          "hovermode": "closest",
          "mapbox": {
           "style": "light"
          },
          "paper_bgcolor": "white",
          "plot_bgcolor": "#E5ECF6",
          "polar": {
           "angularaxis": {
            "gridcolor": "white",
            "linecolor": "white",
            "ticks": ""
           },
           "bgcolor": "#E5ECF6",
           "radialaxis": {
            "gridcolor": "white",
            "linecolor": "white",
            "ticks": ""
           }
          },
          "scene": {
           "xaxis": {
            "backgroundcolor": "#E5ECF6",
            "gridcolor": "white",
            "gridwidth": 2,
            "linecolor": "white",
            "showbackground": true,
            "ticks": "",
            "zerolinecolor": "white"
           },
           "yaxis": {
            "backgroundcolor": "#E5ECF6",
            "gridcolor": "white",
            "gridwidth": 2,
            "linecolor": "white",
            "showbackground": true,
            "ticks": "",
            "zerolinecolor": "white"
           },
           "zaxis": {
            "backgroundcolor": "#E5ECF6",
            "gridcolor": "white",
            "gridwidth": 2,
            "linecolor": "white",
            "showbackground": true,
            "ticks": "",
            "zerolinecolor": "white"
           }
          },
          "shapedefaults": {
           "line": {
            "color": "#2a3f5f"
           }
          },
          "ternary": {
           "aaxis": {
            "gridcolor": "white",
            "linecolor": "white",
            "ticks": ""
           },
           "baxis": {
            "gridcolor": "white",
            "linecolor": "white",
            "ticks": ""
           },
           "bgcolor": "#E5ECF6",
           "caxis": {
            "gridcolor": "white",
            "linecolor": "white",
            "ticks": ""
           }
          },
          "title": {
           "x": 0.05
          },
          "xaxis": {
           "automargin": true,
           "gridcolor": "white",
           "linecolor": "white",
           "ticks": "",
           "title": {
            "standoff": 15
           },
           "zerolinecolor": "white",
           "zerolinewidth": 2
          },
          "yaxis": {
           "automargin": true,
           "gridcolor": "white",
           "linecolor": "white",
           "ticks": "",
           "title": {
            "standoff": 15
           },
           "zerolinecolor": "white",
           "zerolinewidth": 2
          }
         }
        },
        "width": 720,
        "xaxis": {
         "anchor": "y",
         "domain": [
          0,
          0.2125
         ],
         "range": [
          -5,
          5
         ],
         "visible": false
        },
        "xaxis2": {
         "anchor": "y2",
         "domain": [
          0.2625,
          0.475
         ],
         "range": [
          -5,
          5
         ],
         "visible": false
        },
        "xaxis3": {
         "anchor": "y3",
         "domain": [
          0.525,
          0.7375
         ],
         "range": [
          -5,
          5
         ],
         "visible": false
        },
        "xaxis4": {
         "anchor": "y4",
         "domain": [
          0.7875,
          1
         ],
         "range": [
          -5,
          5
         ],
         "visible": false
        },
        "xaxis5": {
         "anchor": "y5",
         "domain": [
          0,
          0.2125
         ],
         "range": [
          -5,
          5
         ],
         "visible": false
        },
        "xaxis6": {
         "anchor": "y6",
         "domain": [
          0.2625,
          0.475
         ],
         "range": [
          -5,
          5
         ],
         "visible": false
        },
        "xaxis7": {
         "anchor": "y7",
         "domain": [
          0.525,
          0.7375
         ],
         "range": [
          -5,
          5
         ],
         "visible": false
        },
        "xaxis8": {
         "anchor": "y8",
         "domain": [
          0.7875,
          1
         ],
         "range": [
          -5,
          5
         ],
         "visible": false
        },
        "yaxis": {
         "anchor": "x",
         "domain": [
          0.525,
          1
         ],
         "range": [
          0,
          5
         ],
         "scaleanchor": "x",
         "scaleratio": 1,
         "visible": false
        },
        "yaxis2": {
         "anchor": "x2",
         "domain": [
          0.525,
          1
         ],
         "range": [
          0,
          5
         ],
         "scaleanchor": "x",
         "scaleratio": 1,
         "visible": false
        },
        "yaxis3": {
         "anchor": "x3",
         "domain": [
          0.525,
          1
         ],
         "range": [
          0,
          5
         ],
         "scaleanchor": "x",
         "scaleratio": 1,
         "visible": false
        },
        "yaxis4": {
         "anchor": "x4",
         "domain": [
          0.525,
          1
         ],
         "range": [
          0,
          5
         ],
         "scaleanchor": "x",
         "scaleratio": 1,
         "visible": false
        },
        "yaxis5": {
         "anchor": "x5",
         "domain": [
          0,
          0.475
         ],
         "range": [
          0,
          5
         ],
         "scaleanchor": "x",
         "scaleratio": 1,
         "visible": false
        },
        "yaxis6": {
         "anchor": "x6",
         "domain": [
          0,
          0.475
         ],
         "range": [
          0,
          5
         ],
         "scaleanchor": "x",
         "scaleratio": 1,
         "visible": false
        },
        "yaxis7": {
         "anchor": "x7",
         "domain": [
          0,
          0.475
         ],
         "range": [
          0,
          5
         ],
         "scaleanchor": "x",
         "scaleratio": 1,
         "visible": false
        },
        "yaxis8": {
         "anchor": "x8",
         "domain": [
          0,
          0.475
         ],
         "range": [
          0,
          5
         ],
         "scaleanchor": "x",
         "scaleratio": 1,
         "visible": false
        }
       }
      }
     },
     "metadata": {},
     "output_type": "display_data"
    },
    {
     "data": {
      "application/vnd.plotly.v1+json": {
       "config": {
        "plotlyServerURL": "https://plot.ly"
       },
       "data": [
        {
         "fillcolor": "red",
         "line": {
          "color": "rgba(247,148,29,0.9)",
          "width": 2
         },
         "mode": "lines",
         "type": "scatter",
         "x": [],
         "xaxis": "x",
         "y": [],
         "yaxis": "y"
        },
        {
         "marker": {
          "color": "rgba(0,174,239,1)",
          "size": 6
         },
         "mode": "markers",
         "type": "scatter",
         "x": [
          0,
          3.4641016151377544,
          1.7320508075688772,
          1.7320508075688772,
          -1.7320508075688772
         ],
         "xaxis": "x",
         "y": [
          0,
          0,
          3,
          1,
          3
         ],
         "yaxis": "y"
        },
        {
         "fillcolor": "red",
         "line": {
          "color": "rgba(247,148,29,0.9)",
          "width": 2
         },
         "mode": "lines",
         "type": "scatter",
         "x": [],
         "xaxis": "x5",
         "y": [],
         "yaxis": "y5"
        },
        {
         "marker": {
          "color": "rgba(0,174,239,1)",
          "size": 6
         },
         "mode": "markers",
         "type": "scatter",
         "x": [
          0,
          3.4641016151377544,
          1.7320508075688772
         ],
         "xaxis": "x5",
         "y": [
          0,
          0,
          3
         ],
         "yaxis": "y5"
        },
        {
         "fillcolor": "red",
         "line": {
          "color": "rgba(247,148,29,0.9)",
          "width": 2
         },
         "mode": "lines",
         "type": "scatter",
         "x": [
          0,
          1.7320508075688772,
          null,
          3.4641016151377544,
          1.7320508075688772,
          null,
          1.7320508075688772,
          1.7320508075688772,
          null
         ],
         "xaxis": "x2",
         "y": [
          0,
          1,
          null,
          0,
          1,
          null,
          3,
          1,
          null
         ],
         "yaxis": "y2"
        },
        {
         "marker": {
          "color": "rgba(0,174,239,1)",
          "size": 6
         },
         "mode": "markers",
         "type": "scatter",
         "x": [
          0,
          3.4641016151377544,
          1.7320508075688772,
          1.7320508075688772,
          -1.7320508075688772
         ],
         "xaxis": "x2",
         "y": [
          0,
          0,
          3,
          1,
          3
         ],
         "yaxis": "y2"
        },
        {
         "fillcolor": "red",
         "line": {
          "color": "rgba(247,148,29,0.9)",
          "width": 2
         },
         "mode": "lines",
         "type": "scatter",
         "x": [],
         "xaxis": "x6",
         "y": [],
         "yaxis": "y6"
        },
        {
         "marker": {
          "color": "rgba(0,174,239,1)",
          "size": 6
         },
         "mode": "markers",
         "type": "scatter",
         "x": [
          0,
          3.4641016151377544,
          1.7320508075688772
         ],
         "xaxis": "x6",
         "y": [
          0,
          0,
          3
         ],
         "yaxis": "y6"
        },
        {
         "fill": "toself",
         "fillcolor": "rgba(0,174,239,0.35)",
         "mode": "none",
         "type": "scatter",
         "x": [
          0,
          3.4641016151377544,
          1.7320508075688772
         ],
         "xaxis": "x3",
         "y": [
          0,
          0,
          1
         ],
         "yaxis": "y3"
        },
        {
         "fill": "toself",
         "fillcolor": "rgba(0,174,239,0.35)",
         "mode": "none",
         "type": "scatter",
         "x": [
          0,
          1.7320508075688772,
          1.7320508075688772
         ],
         "xaxis": "x3",
         "y": [
          0,
          3,
          1
         ],
         "yaxis": "y3"
        },
        {
         "fill": "toself",
         "fillcolor": "rgba(0,174,239,0.35)",
         "mode": "none",
         "type": "scatter",
         "x": [
          3.4641016151377544,
          1.7320508075688772,
          1.7320508075688772
         ],
         "xaxis": "x3",
         "y": [
          0,
          3,
          1
         ],
         "yaxis": "y3"
        },
        {
         "fillcolor": "red",
         "line": {
          "color": "rgba(247,148,29,0.9)",
          "width": 2
         },
         "mode": "lines",
         "type": "scatter",
         "x": [
          0,
          3.4641016151377544,
          null,
          0,
          1.7320508075688772,
          null,
          0,
          1.7320508075688772,
          null,
          0,
          -1.7320508075688772,
          null,
          3.4641016151377544,
          1.7320508075688772,
          null,
          3.4641016151377544,
          1.7320508075688772,
          null,
          1.7320508075688772,
          1.7320508075688772,
          null,
          1.7320508075688772,
          -1.7320508075688772,
          null
         ],
         "xaxis": "x3",
         "y": [
          0,
          0,
          null,
          0,
          3,
          null,
          0,
          1,
          null,
          0,
          3,
          null,
          0,
          3,
          null,
          0,
          1,
          null,
          3,
          1,
          null,
          3,
          3,
          null
         ],
         "yaxis": "y3"
        },
        {
         "marker": {
          "color": "rgba(0,174,239,1)",
          "size": 6
         },
         "mode": "markers",
         "type": "scatter",
         "x": [
          0,
          3.4641016151377544,
          1.7320508075688772,
          1.7320508075688772,
          -1.7320508075688772
         ],
         "xaxis": "x3",
         "y": [
          0,
          0,
          3,
          1,
          3
         ],
         "yaxis": "y3"
        },
        {
         "fillcolor": "red",
         "line": {
          "color": "rgba(247,148,29,0.9)",
          "width": 2
         },
         "mode": "lines",
         "type": "scatter",
         "x": [
          0,
          3.4641016151377544,
          null,
          0,
          1.7320508075688772,
          null,
          3.4641016151377544,
          1.7320508075688772,
          null
         ],
         "xaxis": "x7",
         "y": [
          0,
          0,
          null,
          0,
          3,
          null,
          0,
          3,
          null
         ],
         "yaxis": "y7"
        },
        {
         "marker": {
          "color": "rgba(0,174,239,1)",
          "size": 6
         },
         "mode": "markers",
         "type": "scatter",
         "x": [
          0,
          3.4641016151377544,
          1.7320508075688772
         ],
         "xaxis": "x7",
         "y": [
          0,
          0,
          3
         ],
         "yaxis": "y7"
        },
        {
         "fill": "toself",
         "fillcolor": "rgba(0,174,239,0.35)",
         "mode": "none",
         "type": "scatter",
         "x": [
          0,
          3.4641016151377544,
          1.7320508075688772
         ],
         "xaxis": "x4",
         "y": [
          0,
          0,
          3
         ],
         "yaxis": "y4"
        },
        {
         "fill": "toself",
         "fillcolor": "rgba(0,174,239,0.35)",
         "mode": "none",
         "type": "scatter",
         "x": [
          0,
          3.4641016151377544,
          1.7320508075688772
         ],
         "xaxis": "x4",
         "y": [
          0,
          0,
          1
         ],
         "yaxis": "y4"
        },
        {
         "fill": "toself",
         "fillcolor": "rgba(0,174,239,0.35)",
         "mode": "none",
         "type": "scatter",
         "x": [
          0,
          1.7320508075688772,
          1.7320508075688772
         ],
         "xaxis": "x4",
         "y": [
          0,
          3,
          1
         ],
         "yaxis": "y4"
        },
        {
         "fill": "toself",
         "fillcolor": "rgba(0,174,239,0.35)",
         "mode": "none",
         "type": "scatter",
         "x": [
          0,
          1.7320508075688772,
          -1.7320508075688772
         ],
         "xaxis": "x4",
         "y": [
          0,
          3,
          3
         ],
         "yaxis": "y4"
        },
        {
         "fill": "toself",
         "fillcolor": "rgba(0,174,239,0.35)",
         "mode": "none",
         "type": "scatter",
         "x": [
          0,
          1.7320508075688772,
          -1.7320508075688772
         ],
         "xaxis": "x4",
         "y": [
          0,
          1,
          3
         ],
         "yaxis": "y4"
        },
        {
         "fill": "toself",
         "fillcolor": "rgba(0,174,239,0.35)",
         "mode": "none",
         "type": "scatter",
         "x": [
          3.4641016151377544,
          1.7320508075688772,
          1.7320508075688772
         ],
         "xaxis": "x4",
         "y": [
          0,
          3,
          1
         ],
         "yaxis": "y4"
        },
        {
         "fill": "toself",
         "fillcolor": "rgba(0,174,239,0.35)",
         "mode": "none",
         "type": "scatter",
         "x": [
          1.7320508075688772,
          1.7320508075688772,
          -1.7320508075688772
         ],
         "xaxis": "x4",
         "y": [
          3,
          1,
          3
         ],
         "yaxis": "y4"
        },
        {
         "fillcolor": "red",
         "line": {
          "color": "rgba(247,148,29,0.9)",
          "width": 2
         },
         "mode": "lines",
         "type": "scatter",
         "x": [
          0,
          3.4641016151377544,
          null,
          0,
          1.7320508075688772,
          null,
          0,
          1.7320508075688772,
          null,
          0,
          -1.7320508075688772,
          null,
          3.4641016151377544,
          1.7320508075688772,
          null,
          3.4641016151377544,
          1.7320508075688772,
          null,
          1.7320508075688772,
          1.7320508075688772,
          null,
          1.7320508075688772,
          -1.7320508075688772,
          null,
          1.7320508075688772,
          -1.7320508075688772,
          null
         ],
         "xaxis": "x4",
         "y": [
          0,
          0,
          null,
          0,
          3,
          null,
          0,
          1,
          null,
          0,
          3,
          null,
          0,
          3,
          null,
          0,
          1,
          null,
          3,
          1,
          null,
          3,
          3,
          null,
          1,
          3,
          null
         ],
         "yaxis": "y4"
        },
        {
         "marker": {
          "color": "rgba(0,174,239,1)",
          "size": 6
         },
         "mode": "markers",
         "type": "scatter",
         "x": [
          0,
          3.4641016151377544,
          1.7320508075688772,
          1.7320508075688772,
          -1.7320508075688772
         ],
         "xaxis": "x4",
         "y": [
          0,
          0,
          3,
          1,
          3
         ],
         "yaxis": "y4"
        },
        {
         "fill": "toself",
         "fillcolor": "rgba(0,174,239,0.35)",
         "mode": "none",
         "type": "scatter",
         "x": [
          0,
          3.4641016151377544,
          1.7320508075688772
         ],
         "xaxis": "x8",
         "y": [
          0,
          0,
          3
         ],
         "yaxis": "y8"
        },
        {
         "fillcolor": "red",
         "line": {
          "color": "rgba(247,148,29,0.9)",
          "width": 2
         },
         "mode": "lines",
         "type": "scatter",
         "x": [
          0,
          3.4641016151377544,
          null,
          0,
          1.7320508075688772,
          null,
          3.4641016151377544,
          1.7320508075688772,
          null
         ],
         "xaxis": "x8",
         "y": [
          0,
          0,
          null,
          0,
          3,
          null,
          0,
          3,
          null
         ],
         "yaxis": "y8"
        },
        {
         "marker": {
          "color": "rgba(0,174,239,1)",
          "size": 6
         },
         "mode": "markers",
         "type": "scatter",
         "x": [
          0,
          3.4641016151377544,
          1.7320508075688772
         ],
         "xaxis": "x8",
         "y": [
          0,
          0,
          3
         ],
         "yaxis": "y8"
        }
       ],
       "layout": {
        "annotations": [
         {
          "font": {
           "size": 16
          },
          "showarrow": false,
          "text": "Radius: 0.00000",
          "x": 0.10625,
          "xanchor": "center",
          "xref": "paper",
          "y": 1,
          "yanchor": "bottom",
          "yref": "paper"
         },
         {
          "font": {
           "size": 16
          },
          "showarrow": false,
          "text": "Radius: 1.00000",
          "x": 0.36875,
          "xanchor": "center",
          "xref": "paper",
          "y": 1,
          "yanchor": "bottom",
          "yref": "paper"
         },
         {
          "font": {
           "size": 16
          },
          "showarrow": false,
          "text": "Radius: 1.73205",
          "x": 0.6312500000000001,
          "xanchor": "center",
          "xref": "paper",
          "y": 1,
          "yanchor": "bottom",
          "yref": "paper"
         },
         {
          "font": {
           "size": 16
          },
          "showarrow": false,
          "text": "Radius: 2.00000",
          "x": 0.89375,
          "xanchor": "center",
          "xref": "paper",
          "y": 1,
          "yanchor": "bottom",
          "yref": "paper"
         }
        ],
        "font": {
         "color": "#7f7f7f",
         "family": "Courier New, monospace",
         "size": 18
        },
        "height": 440,
        "hovermode": false,
        "paper_bgcolor": "rgba(0,0,0,0)",
        "plot_bgcolor": "rgba(0,0,0,0)",
        "shapes": [
         {
          "fillcolor": "rgba(0,174,239,0.05)",
          "layer": "below",
          "line": {
           "color": "rgba(0,174,239,1)",
           "width": 2
          },
          "type": "circle",
          "x0": 0,
          "x1": 0,
          "xref": "x",
          "y0": 0,
          "y1": 0,
          "yref": "y"
         },
         {
          "fillcolor": "rgba(0,174,239,0.05)",
          "layer": "below",
          "line": {
           "color": "rgba(0,174,239,1)",
           "width": 2
          },
          "type": "circle",
          "x0": 3.4641016151377544,
          "x1": 3.4641016151377544,
          "xref": "x",
          "y0": 0,
          "y1": 0,
          "yref": "y"
         },
         {
          "fillcolor": "rgba(0,174,239,0.05)",
          "layer": "below",
          "line": {
           "color": "rgba(0,174,239,1)",
           "width": 2
          },
          "type": "circle",
          "x0": 1.7320508075688772,
          "x1": 1.7320508075688772,
          "xref": "x",
          "y0": 3,
          "y1": 3,
          "yref": "y"
         },
         {
          "fillcolor": "rgba(0,174,239,0.05)",
          "layer": "below",
          "line": {
           "color": "rgba(0,174,239,1)",
           "width": 2
          },
          "type": "circle",
          "x0": 1.7320508075688772,
          "x1": 1.7320508075688772,
          "xref": "x",
          "y0": 1,
          "y1": 1,
          "yref": "y"
         },
         {
          "fillcolor": "rgba(0,174,239,0.05)",
          "layer": "below",
          "line": {
           "color": "rgba(0,174,239,1)",
           "width": 2
          },
          "type": "circle",
          "x0": -1.7320508075688772,
          "x1": -1.7320508075688772,
          "xref": "x",
          "y0": 3,
          "y1": 3,
          "yref": "y"
         },
         {
          "fillcolor": "rgba(0,174,239,0.05)",
          "layer": "below",
          "line": {
           "color": "rgba(0,174,239,1)",
           "width": 2
          },
          "type": "circle",
          "x0": 0,
          "x1": 0,
          "xref": "x5",
          "y0": 0,
          "y1": 0,
          "yref": "y5"
         },
         {
          "fillcolor": "rgba(0,174,239,0.05)",
          "layer": "below",
          "line": {
           "color": "rgba(0,174,239,1)",
           "width": 2
          },
          "type": "circle",
          "x0": 3.4641016151377544,
          "x1": 3.4641016151377544,
          "xref": "x5",
          "y0": 0,
          "y1": 0,
          "yref": "y5"
         },
         {
          "fillcolor": "rgba(0,174,239,0.05)",
          "layer": "below",
          "line": {
           "color": "rgba(0,174,239,1)",
           "width": 2
          },
          "type": "circle",
          "x0": 1.7320508075688772,
          "x1": 1.7320508075688772,
          "xref": "x5",
          "y0": 3,
          "y1": 3,
          "yref": "y5"
         },
         {
          "fillcolor": "rgba(0,174,239,0.05)",
          "layer": "below",
          "line": {
           "color": "rgba(0,174,239,1)",
           "width": 2
          },
          "type": "circle",
          "x0": -1,
          "x1": 1,
          "xref": "x2",
          "y0": -1,
          "y1": 1,
          "yref": "y2"
         },
         {
          "fillcolor": "rgba(0,174,239,0.05)",
          "layer": "below",
          "line": {
           "color": "rgba(0,174,239,1)",
           "width": 2
          },
          "type": "circle",
          "x0": 2.4641016151377544,
          "x1": 4.464101615137754,
          "xref": "x2",
          "y0": -1,
          "y1": 1,
          "yref": "y2"
         },
         {
          "fillcolor": "rgba(0,174,239,0.05)",
          "layer": "below",
          "line": {
           "color": "rgba(0,174,239,1)",
           "width": 2
          },
          "type": "circle",
          "x0": 0.7320508075688772,
          "x1": 2.732050807568877,
          "xref": "x2",
          "y0": 2,
          "y1": 4,
          "yref": "y2"
         },
         {
          "fillcolor": "rgba(0,174,239,0.05)",
          "layer": "below",
          "line": {
           "color": "rgba(0,174,239,1)",
           "width": 2
          },
          "type": "circle",
          "x0": 0.7320508075688772,
          "x1": 2.732050807568877,
          "xref": "x2",
          "y0": 0,
          "y1": 2,
          "yref": "y2"
         },
         {
          "fillcolor": "rgba(0,174,239,0.05)",
          "layer": "below",
          "line": {
           "color": "rgba(0,174,239,1)",
           "width": 2
          },
          "type": "circle",
          "x0": -2.732050807568877,
          "x1": -0.7320508075688772,
          "xref": "x2",
          "y0": 2,
          "y1": 4,
          "yref": "y2"
         },
         {
          "fillcolor": "rgba(0,174,239,0.05)",
          "layer": "below",
          "line": {
           "color": "rgba(0,174,239,1)",
           "width": 2
          },
          "type": "circle",
          "x0": -1,
          "x1": 1,
          "xref": "x6",
          "y0": -1,
          "y1": 1,
          "yref": "y6"
         },
         {
          "fillcolor": "rgba(0,174,239,0.05)",
          "layer": "below",
          "line": {
           "color": "rgba(0,174,239,1)",
           "width": 2
          },
          "type": "circle",
          "x0": 2.4641016151377544,
          "x1": 4.464101615137754,
          "xref": "x6",
          "y0": -1,
          "y1": 1,
          "yref": "y6"
         },
         {
          "fillcolor": "rgba(0,174,239,0.05)",
          "layer": "below",
          "line": {
           "color": "rgba(0,174,239,1)",
           "width": 2
          },
          "type": "circle",
          "x0": 0.7320508075688772,
          "x1": 2.732050807568877,
          "xref": "x6",
          "y0": 2,
          "y1": 4,
          "yref": "y6"
         },
         {
          "fillcolor": "rgba(0,174,239,0.05)",
          "layer": "below",
          "line": {
           "color": "rgba(0,174,239,1)",
           "width": 2
          },
          "type": "circle",
          "x0": -1.7320508075688772,
          "x1": 1.7320508075688772,
          "xref": "x3",
          "y0": -1.7320508075688772,
          "y1": 1.7320508075688772,
          "yref": "y3"
         },
         {
          "fillcolor": "rgba(0,174,239,0.05)",
          "layer": "below",
          "line": {
           "color": "rgba(0,174,239,1)",
           "width": 2
          },
          "type": "circle",
          "x0": 1.7320508075688772,
          "x1": 5.196152422706632,
          "xref": "x3",
          "y0": -1.7320508075688772,
          "y1": 1.7320508075688772,
          "yref": "y3"
         },
         {
          "fillcolor": "rgba(0,174,239,0.05)",
          "layer": "below",
          "line": {
           "color": "rgba(0,174,239,1)",
           "width": 2
          },
          "type": "circle",
          "x0": 0,
          "x1": 3.4641016151377544,
          "xref": "x3",
          "y0": 1.2679491924311228,
          "y1": 4.732050807568877,
          "yref": "y3"
         },
         {
          "fillcolor": "rgba(0,174,239,0.05)",
          "layer": "below",
          "line": {
           "color": "rgba(0,174,239,1)",
           "width": 2
          },
          "type": "circle",
          "x0": 0,
          "x1": 3.4641016151377544,
          "xref": "x3",
          "y0": -0.7320508075688772,
          "y1": 2.732050807568877,
          "yref": "y3"
         },
         {
          "fillcolor": "rgba(0,174,239,0.05)",
          "layer": "below",
          "line": {
           "color": "rgba(0,174,239,1)",
           "width": 2
          },
          "type": "circle",
          "x0": -3.4641016151377544,
          "x1": 0,
          "xref": "x3",
          "y0": 1.2679491924311228,
          "y1": 4.732050807568877,
          "yref": "y3"
         },
         {
          "fillcolor": "rgba(0,174,239,0.05)",
          "layer": "below",
          "line": {
           "color": "rgba(0,174,239,1)",
           "width": 2
          },
          "type": "circle",
          "x0": -1.7320508075688772,
          "x1": 1.7320508075688772,
          "xref": "x7",
          "y0": -1.7320508075688772,
          "y1": 1.7320508075688772,
          "yref": "y7"
         },
         {
          "fillcolor": "rgba(0,174,239,0.05)",
          "layer": "below",
          "line": {
           "color": "rgba(0,174,239,1)",
           "width": 2
          },
          "type": "circle",
          "x0": 1.7320508075688772,
          "x1": 5.196152422706632,
          "xref": "x7",
          "y0": -1.7320508075688772,
          "y1": 1.7320508075688772,
          "yref": "y7"
         },
         {
          "fillcolor": "rgba(0,174,239,0.05)",
          "layer": "below",
          "line": {
           "color": "rgba(0,174,239,1)",
           "width": 2
          },
          "type": "circle",
          "x0": 0,
          "x1": 3.4641016151377544,
          "xref": "x7",
          "y0": 1.2679491924311228,
          "y1": 4.732050807568877,
          "yref": "y7"
         },
         {
          "fillcolor": "rgba(0,174,239,0.05)",
          "layer": "below",
          "line": {
           "color": "rgba(0,174,239,1)",
           "width": 2
          },
          "type": "circle",
          "x0": -2,
          "x1": 2,
          "xref": "x4",
          "y0": -2,
          "y1": 2,
          "yref": "y4"
         },
         {
          "fillcolor": "rgba(0,174,239,0.05)",
          "layer": "below",
          "line": {
           "color": "rgba(0,174,239,1)",
           "width": 2
          },
          "type": "circle",
          "x0": 1.4641016151377544,
          "x1": 5.464101615137754,
          "xref": "x4",
          "y0": -2,
          "y1": 2,
          "yref": "y4"
         },
         {
          "fillcolor": "rgba(0,174,239,0.05)",
          "layer": "below",
          "line": {
           "color": "rgba(0,174,239,1)",
           "width": 2
          },
          "type": "circle",
          "x0": -0.2679491924311228,
          "x1": 3.732050807568877,
          "xref": "x4",
          "y0": 1,
          "y1": 5,
          "yref": "y4"
         },
         {
          "fillcolor": "rgba(0,174,239,0.05)",
          "layer": "below",
          "line": {
           "color": "rgba(0,174,239,1)",
           "width": 2
          },
          "type": "circle",
          "x0": -0.2679491924311228,
          "x1": 3.732050807568877,
          "xref": "x4",
          "y0": -1,
          "y1": 3,
          "yref": "y4"
         },
         {
          "fillcolor": "rgba(0,174,239,0.05)",
          "layer": "below",
          "line": {
           "color": "rgba(0,174,239,1)",
           "width": 2
          },
          "type": "circle",
          "x0": -3.732050807568877,
          "x1": 0.2679491924311228,
          "xref": "x4",
          "y0": 1,
          "y1": 5,
          "yref": "y4"
         },
         {
          "fillcolor": "rgba(0,174,239,0.05)",
          "layer": "below",
          "line": {
           "color": "rgba(0,174,239,1)",
           "width": 2
          },
          "type": "circle",
          "x0": -2,
          "x1": 2,
          "xref": "x8",
          "y0": -2,
          "y1": 2,
          "yref": "y8"
         },
         {
          "fillcolor": "rgba(0,174,239,0.05)",
          "layer": "below",
          "line": {
           "color": "rgba(0,174,239,1)",
           "width": 2
          },
          "type": "circle",
          "x0": 1.4641016151377544,
          "x1": 5.464101615137754,
          "xref": "x8",
          "y0": -2,
          "y1": 2,
          "yref": "y8"
         },
         {
          "fillcolor": "rgba(0,174,239,0.05)",
          "layer": "below",
          "line": {
           "color": "rgba(0,174,239,1)",
           "width": 2
          },
          "type": "circle",
          "x0": -0.2679491924311228,
          "x1": 3.732050807568877,
          "xref": "x8",
          "y0": 1,
          "y1": 5,
          "yref": "y8"
         }
        ],
        "showlegend": false,
        "template": {
         "data": {
          "bar": [
           {
            "error_x": {
             "color": "#2a3f5f"
            },
            "error_y": {
             "color": "#2a3f5f"
            },
            "marker": {
             "line": {
              "color": "#E5ECF6",
              "width": 0.5
             },
             "pattern": {
              "fillmode": "overlay",
              "size": 10,
              "solidity": 0.2
             }
            },
            "type": "bar"
           }
          ],
          "barpolar": [
           {
            "marker": {
             "line": {
              "color": "#E5ECF6",
              "width": 0.5
             },
             "pattern": {
              "fillmode": "overlay",
              "size": 10,
              "solidity": 0.2
             }
            },
            "type": "barpolar"
           }
          ],
          "carpet": [
           {
            "aaxis": {
             "endlinecolor": "#2a3f5f",
             "gridcolor": "white",
             "linecolor": "white",
             "minorgridcolor": "white",
             "startlinecolor": "#2a3f5f"
            },
            "baxis": {
             "endlinecolor": "#2a3f5f",
             "gridcolor": "white",
             "linecolor": "white",
             "minorgridcolor": "white",
             "startlinecolor": "#2a3f5f"
            },
            "type": "carpet"
           }
          ],
          "choropleth": [
           {
            "colorbar": {
             "outlinewidth": 0,
             "ticks": ""
            },
            "type": "choropleth"
           }
          ],
          "contour": [
           {
            "colorbar": {
             "outlinewidth": 0,
             "ticks": ""
            },
            "colorscale": [
             [
              0,
              "#0d0887"
             ],
             [
              0.1111111111111111,
              "#46039f"
             ],
             [
              0.2222222222222222,
              "#7201a8"
             ],
             [
              0.3333333333333333,
              "#9c179e"
             ],
             [
              0.4444444444444444,
              "#bd3786"
             ],
             [
              0.5555555555555556,
              "#d8576b"
             ],
             [
              0.6666666666666666,
              "#ed7953"
             ],
             [
              0.7777777777777778,
              "#fb9f3a"
             ],
             [
              0.8888888888888888,
              "#fdca26"
             ],
             [
              1,
              "#f0f921"
             ]
            ],
            "type": "contour"
           }
          ],
          "contourcarpet": [
           {
            "colorbar": {
             "outlinewidth": 0,
             "ticks": ""
            },
            "type": "contourcarpet"
           }
          ],
          "heatmap": [
           {
            "colorbar": {
             "outlinewidth": 0,
             "ticks": ""
            },
            "colorscale": [
             [
              0,
              "#0d0887"
             ],
             [
              0.1111111111111111,
              "#46039f"
             ],
             [
              0.2222222222222222,
              "#7201a8"
             ],
             [
              0.3333333333333333,
              "#9c179e"
             ],
             [
              0.4444444444444444,
              "#bd3786"
             ],
             [
              0.5555555555555556,
              "#d8576b"
             ],
             [
              0.6666666666666666,
              "#ed7953"
             ],
             [
              0.7777777777777778,
              "#fb9f3a"
             ],
             [
              0.8888888888888888,
              "#fdca26"
             ],
             [
              1,
              "#f0f921"
             ]
            ],
            "type": "heatmap"
           }
          ],
          "heatmapgl": [
           {
            "colorbar": {
             "outlinewidth": 0,
             "ticks": ""
            },
            "colorscale": [
             [
              0,
              "#0d0887"
             ],
             [
              0.1111111111111111,
              "#46039f"
             ],
             [
              0.2222222222222222,
              "#7201a8"
             ],
             [
              0.3333333333333333,
              "#9c179e"
             ],
             [
              0.4444444444444444,
              "#bd3786"
             ],
             [
              0.5555555555555556,
              "#d8576b"
             ],
             [
              0.6666666666666666,
              "#ed7953"
             ],
             [
              0.7777777777777778,
              "#fb9f3a"
             ],
             [
              0.8888888888888888,
              "#fdca26"
             ],
             [
              1,
              "#f0f921"
             ]
            ],
            "type": "heatmapgl"
           }
          ],
          "histogram": [
           {
            "marker": {
             "pattern": {
              "fillmode": "overlay",
              "size": 10,
              "solidity": 0.2
             }
            },
            "type": "histogram"
           }
          ],
          "histogram2d": [
           {
            "colorbar": {
             "outlinewidth": 0,
             "ticks": ""
            },
            "colorscale": [
             [
              0,
              "#0d0887"
             ],
             [
              0.1111111111111111,
              "#46039f"
             ],
             [
              0.2222222222222222,
              "#7201a8"
             ],
             [
              0.3333333333333333,
              "#9c179e"
             ],
             [
              0.4444444444444444,
              "#bd3786"
             ],
             [
              0.5555555555555556,
              "#d8576b"
             ],
             [
              0.6666666666666666,
              "#ed7953"
             ],
             [
              0.7777777777777778,
              "#fb9f3a"
             ],
             [
              0.8888888888888888,
              "#fdca26"
             ],
             [
              1,
              "#f0f921"
             ]
            ],
            "type": "histogram2d"
           }
          ],
          "histogram2dcontour": [
           {
            "colorbar": {
             "outlinewidth": 0,
             "ticks": ""
            },
            "colorscale": [
             [
              0,
              "#0d0887"
             ],
             [
              0.1111111111111111,
              "#46039f"
             ],
             [
              0.2222222222222222,
              "#7201a8"
             ],
             [
              0.3333333333333333,
              "#9c179e"
             ],
             [
              0.4444444444444444,
              "#bd3786"
             ],
             [
              0.5555555555555556,
              "#d8576b"
             ],
             [
              0.6666666666666666,
              "#ed7953"
             ],
             [
              0.7777777777777778,
              "#fb9f3a"
             ],
             [
              0.8888888888888888,
              "#fdca26"
             ],
             [
              1,
              "#f0f921"
             ]
            ],
            "type": "histogram2dcontour"
           }
          ],
          "mesh3d": [
           {
            "colorbar": {
             "outlinewidth": 0,
             "ticks": ""
            },
            "type": "mesh3d"
           }
          ],
          "parcoords": [
           {
            "line": {
             "colorbar": {
              "outlinewidth": 0,
              "ticks": ""
             }
            },
            "type": "parcoords"
           }
          ],
          "pie": [
           {
            "automargin": true,
            "type": "pie"
           }
          ],
          "scatter": [
           {
            "fillpattern": {
             "fillmode": "overlay",
             "size": 10,
             "solidity": 0.2
            },
            "type": "scatter"
           }
          ],
          "scatter3d": [
           {
            "line": {
             "colorbar": {
              "outlinewidth": 0,
              "ticks": ""
             }
            },
            "marker": {
             "colorbar": {
              "outlinewidth": 0,
              "ticks": ""
             }
            },
            "type": "scatter3d"
           }
          ],
          "scattercarpet": [
           {
            "marker": {
             "colorbar": {
              "outlinewidth": 0,
              "ticks": ""
             }
            },
            "type": "scattercarpet"
           }
          ],
          "scattergeo": [
           {
            "marker": {
             "colorbar": {
              "outlinewidth": 0,
              "ticks": ""
             }
            },
            "type": "scattergeo"
           }
          ],
          "scattergl": [
           {
            "marker": {
             "colorbar": {
              "outlinewidth": 0,
              "ticks": ""
             }
            },
            "type": "scattergl"
           }
          ],
          "scattermapbox": [
           {
            "marker": {
             "colorbar": {
              "outlinewidth": 0,
              "ticks": ""
             }
            },
            "type": "scattermapbox"
           }
          ],
          "scatterpolar": [
           {
            "marker": {
             "colorbar": {
              "outlinewidth": 0,
              "ticks": ""
             }
            },
            "type": "scatterpolar"
           }
          ],
          "scatterpolargl": [
           {
            "marker": {
             "colorbar": {
              "outlinewidth": 0,
              "ticks": ""
             }
            },
            "type": "scatterpolargl"
           }
          ],
          "scatterternary": [
           {
            "marker": {
             "colorbar": {
              "outlinewidth": 0,
              "ticks": ""
             }
            },
            "type": "scatterternary"
           }
          ],
          "surface": [
           {
            "colorbar": {
             "outlinewidth": 0,
             "ticks": ""
            },
            "colorscale": [
             [
              0,
              "#0d0887"
             ],
             [
              0.1111111111111111,
              "#46039f"
             ],
             [
              0.2222222222222222,
              "#7201a8"
             ],
             [
              0.3333333333333333,
              "#9c179e"
             ],
             [
              0.4444444444444444,
              "#bd3786"
             ],
             [
              0.5555555555555556,
              "#d8576b"
             ],
             [
              0.6666666666666666,
              "#ed7953"
             ],
             [
              0.7777777777777778,
              "#fb9f3a"
             ],
             [
              0.8888888888888888,
              "#fdca26"
             ],
             [
              1,
              "#f0f921"
             ]
            ],
            "type": "surface"
           }
          ],
          "table": [
           {
            "cells": {
             "fill": {
              "color": "#EBF0F8"
             },
             "line": {
              "color": "white"
             }
            },
            "header": {
             "fill": {
              "color": "#C8D4E3"
             },
             "line": {
              "color": "white"
             }
            },
            "type": "table"
           }
          ]
         },
         "layout": {
          "annotationdefaults": {
           "arrowcolor": "#2a3f5f",
           "arrowhead": 0,
           "arrowwidth": 1
          },
          "autotypenumbers": "strict",
          "coloraxis": {
           "colorbar": {
            "outlinewidth": 0,
            "ticks": ""
           }
          },
          "colorscale": {
           "diverging": [
            [
             0,
             "#8e0152"
            ],
            [
             0.1,
             "#c51b7d"
            ],
            [
             0.2,
             "#de77ae"
            ],
            [
             0.3,
             "#f1b6da"
            ],
            [
             0.4,
             "#fde0ef"
            ],
            [
             0.5,
             "#f7f7f7"
            ],
            [
             0.6,
             "#e6f5d0"
            ],
            [
             0.7,
             "#b8e186"
            ],
            [
             0.8,
             "#7fbc41"
            ],
            [
             0.9,
             "#4d9221"
            ],
            [
             1,
             "#276419"
            ]
           ],
           "sequential": [
            [
             0,
             "#0d0887"
            ],
            [
             0.1111111111111111,
             "#46039f"
            ],
            [
             0.2222222222222222,
             "#7201a8"
            ],
            [
             0.3333333333333333,
             "#9c179e"
            ],
            [
             0.4444444444444444,
             "#bd3786"
            ],
            [
             0.5555555555555556,
             "#d8576b"
            ],
            [
             0.6666666666666666,
             "#ed7953"
            ],
            [
             0.7777777777777778,
             "#fb9f3a"
            ],
            [
             0.8888888888888888,
             "#fdca26"
            ],
            [
             1,
             "#f0f921"
            ]
           ],
           "sequentialminus": [
            [
             0,
             "#0d0887"
            ],
            [
             0.1111111111111111,
             "#46039f"
            ],
            [
             0.2222222222222222,
             "#7201a8"
            ],
            [
             0.3333333333333333,
             "#9c179e"
            ],
            [
             0.4444444444444444,
             "#bd3786"
            ],
            [
             0.5555555555555556,
             "#d8576b"
            ],
            [
             0.6666666666666666,
             "#ed7953"
            ],
            [
             0.7777777777777778,
             "#fb9f3a"
            ],
            [
             0.8888888888888888,
             "#fdca26"
            ],
            [
             1,
             "#f0f921"
            ]
           ]
          },
          "colorway": [
           "#636efa",
           "#EF553B",
           "#00cc96",
           "#ab63fa",
           "#FFA15A",
           "#19d3f3",
           "#FF6692",
           "#B6E880",
           "#FF97FF",
           "#FECB52"
          ],
          "font": {
           "color": "#2a3f5f"
          },
          "geo": {
           "bgcolor": "white",
           "lakecolor": "white",
           "landcolor": "#E5ECF6",
           "showlakes": true,
           "showland": true,
           "subunitcolor": "white"
          },
          "hoverlabel": {
           "align": "left"
          },
          "hovermode": "closest",
          "mapbox": {
           "style": "light"
          },
          "paper_bgcolor": "white",
          "plot_bgcolor": "#E5ECF6",
          "polar": {
           "angularaxis": {
            "gridcolor": "white",
            "linecolor": "white",
            "ticks": ""
           },
           "bgcolor": "#E5ECF6",
           "radialaxis": {
            "gridcolor": "white",
            "linecolor": "white",
            "ticks": ""
           }
          },
          "scene": {
           "xaxis": {
            "backgroundcolor": "#E5ECF6",
            "gridcolor": "white",
            "gridwidth": 2,
            "linecolor": "white",
            "showbackground": true,
            "ticks": "",
            "zerolinecolor": "white"
           },
           "yaxis": {
            "backgroundcolor": "#E5ECF6",
            "gridcolor": "white",
            "gridwidth": 2,
            "linecolor": "white",
            "showbackground": true,
            "ticks": "",
            "zerolinecolor": "white"
           },
           "zaxis": {
            "backgroundcolor": "#E5ECF6",
            "gridcolor": "white",
            "gridwidth": 2,
            "linecolor": "white",
            "showbackground": true,
            "ticks": "",
            "zerolinecolor": "white"
           }
          },
          "shapedefaults": {
           "line": {
            "color": "#2a3f5f"
           }
          },
          "ternary": {
           "aaxis": {
            "gridcolor": "white",
            "linecolor": "white",
            "ticks": ""
           },
           "baxis": {
            "gridcolor": "white",
            "linecolor": "white",
            "ticks": ""
           },
           "bgcolor": "#E5ECF6",
           "caxis": {
            "gridcolor": "white",
            "linecolor": "white",
            "ticks": ""
           }
          },
          "title": {
           "x": 0.05
          },
          "xaxis": {
           "automargin": true,
           "gridcolor": "white",
           "linecolor": "white",
           "ticks": "",
           "title": {
            "standoff": 15
           },
           "zerolinecolor": "white",
           "zerolinewidth": 2
          },
          "yaxis": {
           "automargin": true,
           "gridcolor": "white",
           "linecolor": "white",
           "ticks": "",
           "title": {
            "standoff": 15
           },
           "zerolinecolor": "white",
           "zerolinewidth": 2
          }
         }
        },
        "width": 720,
        "xaxis": {
         "anchor": "y",
         "domain": [
          0,
          0.2125
         ],
         "range": [
          -5,
          5
         ],
         "visible": false
        },
        "xaxis2": {
         "anchor": "y2",
         "domain": [
          0.2625,
          0.475
         ],
         "range": [
          -5,
          5
         ],
         "visible": false
        },
        "xaxis3": {
         "anchor": "y3",
         "domain": [
          0.525,
          0.7375
         ],
         "range": [
          -5,
          5
         ],
         "visible": false
        },
        "xaxis4": {
         "anchor": "y4",
         "domain": [
          0.7875,
          1
         ],
         "range": [
          -5,
          5
         ],
         "visible": false
        },
        "xaxis5": {
         "anchor": "y5",
         "domain": [
          0,
          0.2125
         ],
         "range": [
          -5,
          5
         ],
         "visible": false
        },
        "xaxis6": {
         "anchor": "y6",
         "domain": [
          0.2625,
          0.475
         ],
         "range": [
          -5,
          5
         ],
         "visible": false
        },
        "xaxis7": {
         "anchor": "y7",
         "domain": [
          0.525,
          0.7375
         ],
         "range": [
          -5,
          5
         ],
         "visible": false
        },
        "xaxis8": {
         "anchor": "y8",
         "domain": [
          0.7875,
          1
         ],
         "range": [
          -5,
          5
         ],
         "visible": false
        },
        "yaxis": {
         "anchor": "x",
         "domain": [
          0.525,
          1
         ],
         "range": [
          0,
          5
         ],
         "scaleanchor": "x",
         "scaleratio": 1,
         "visible": false
        },
        "yaxis2": {
         "anchor": "x2",
         "domain": [
          0.525,
          1
         ],
         "range": [
          0,
          5
         ],
         "scaleanchor": "x",
         "scaleratio": 1,
         "visible": false
        },
        "yaxis3": {
         "anchor": "x3",
         "domain": [
          0.525,
          1
         ],
         "range": [
          0,
          5
         ],
         "scaleanchor": "x",
         "scaleratio": 1,
         "visible": false
        },
        "yaxis4": {
         "anchor": "x4",
         "domain": [
          0.525,
          1
         ],
         "range": [
          0,
          5
         ],
         "scaleanchor": "x",
         "scaleratio": 1,
         "visible": false
        },
        "yaxis5": {
         "anchor": "x5",
         "domain": [
          0,
          0.475
         ],
         "range": [
          0,
          5
         ],
         "scaleanchor": "x",
         "scaleratio": 1,
         "visible": false
        },
        "yaxis6": {
         "anchor": "x6",
         "domain": [
          0,
          0.475
         ],
         "range": [
          0,
          5
         ],
         "scaleanchor": "x",
         "scaleratio": 1,
         "visible": false
        },
        "yaxis7": {
         "anchor": "x7",
         "domain": [
          0,
          0.475
         ],
         "range": [
          0,
          5
         ],
         "scaleanchor": "x",
         "scaleratio": 1,
         "visible": false
        },
        "yaxis8": {
         "anchor": "x8",
         "domain": [
          0,
          0.475
         ],
         "range": [
          0,
          5
         ],
         "scaleanchor": "x",
         "scaleratio": 1,
         "visible": false
        }
       }
      }
     },
     "metadata": {},
     "output_type": "display_data"
    }
   ],
   "source": [
    "viz_a.render_all(radii).show()\n",
    "viz_b.render_all(radii).show()"
   ]
  },
  {
   "cell_type": "markdown",
   "id": "400084c3",
   "metadata": {},
   "source": [
    "## Plot the connected persistence diagrams"
   ]
  },
  {
   "cell_type": "code",
   "execution_count": 5,
   "id": "11b7d39a",
   "metadata": {},
   "outputs": [
    {
     "name": "stdout",
     "output_type": "stream",
     "text": [
      "Creating filtration...\n",
      "CLFiltration:ordinal number filtration values detected, will not rescale.\n",
      "Creating filtration...\n",
      "CLFiltration:ordinal number filtration values detected, will not rescale.\n"
     ]
    }
   ],
   "source": [
    "from commutazzio.filtration import pointCloud2Filtration\n",
    "plot_radii=[1.5,1.731,1.733,1.999,2.001] # finer radii near the critical values\n",
    "SC_TYPE='cech'\n",
    "filt_a=pointCloud2Filtration(points_a_upper,vertical_removal_input=[3,4],radii=plot_radii,max_simplex_dim=2,method=SC_TYPE) # create filtration a by removing the 3rd and 4th points from points_a_upper\n",
    "filt_b=pointCloud2Filtration(points_b_upper,vertical_removal_input=[3,4],radii=plot_radii,max_simplex_dim=2,method=SC_TYPE) # create filtration b by removing the 3rd and 4th points from points_b_upper"
   ]
  },
  {
   "cell_type": "code",
   "execution_count": 6,
   "id": "08f78f41",
   "metadata": {},
   "outputs": [
    {
     "name": "stdout",
     "output_type": "stream",
     "text": [
      "Computing connected persistence diagram at homology dimension 1\n",
      "Saving to ./filtration/20240222_214018_902229781f.fltr\n",
      "Constructed all 100 interval representations\n"
     ]
    },
    {
     "name": "stdout",
     "output_type": "stream",
     "text": [
      "Building the difference list of all paths...\n",
      "Difference list building complete.\n",
      "Upper layer barcode computation complete!\n",
      "Progress: 100.00％ Finishing up...\n",
      "Received Computing connected persistence diagram at homology dimension 1\n",
      "21 simplices\n",
      "Received 7 simplices\n",
      "Received 27 simplices\n",
      "Received 27 simplices\n",
      "Received 27 simplices\n",
      "Saving to ./filtration/20240222_214019_d88f3eaa85.fltr\n",
      "Constructed all 100 interval representations\n",
      "Building the difference list of all paths...\n",
      "Difference list building complete.\n",
      "Upper layer barcode computation complete!\n",
      "Progress: 100.00％ Finishing up...\n",
      "Received 21 simplices\n",
      "Received 7 simplices\n",
      "Received 27 simplices\n",
      "Received 27 simplices\n",
      "Received 27 simplices\n"
     ]
    },
    {
     "data": {
      "application/vnd.plotly.v1+json": {
       "config": {
        "plotlyServerURL": "https://plot.ly"
       },
       "data": [
        {
         "hoverinfo": "none",
         "line": {
          "color": "LightSteelBlue",
          "dash": "dot",
          "width": 4
         },
         "mode": "lines",
         "showlegend": false,
         "type": "scatter",
         "x": [
          0,
          5
         ],
         "y": [
          0,
          5
         ]
        },
        {
         "fill": "toself",
         "fillcolor": "rgb(255,0,0)",
         "hoverlabel": {
          "font": {
           "family": "Rockwell",
           "size": 16
          }
         },
         "legendgroup": "group0",
         "line": {
          "width": 0
         },
         "mode": "lines",
         "name": "",
         "opacity": 0,
         "showlegend": false,
         "text": "multiplicity:1",
         "type": "scatter",
         "x": [
          5.053033008588991,
          4.946966991411009,
          2.946966991411009,
          3.053033008588991,
          5.053033008588991
         ],
         "y": [
          3.053033008588991,
          2.946966991411009,
          4.946966991411009,
          5.053033008588991,
          3.053033008588991
         ]
        },
        {
         "hoverlabel": {
          "font": {
           "family": "Rockwell",
           "size": 16
          }
         },
         "legendgroup": "group0",
         "legendgrouptitle": {
          "text": "≤1"
         },
         "legendrank": 0,
         "line": {
          "color": "rgb(255,0,0)",
          "width": 8
         },
         "mode": "lines",
         "name": "",
         "opacity": 0.4,
         "showlegend": true,
         "type": "scatter",
         "x": [
          5,
          3
         ],
         "y": [
          3,
          5
         ]
        },
        {
         "customdata": [
          [
           "1",
           "3",
           "4",
           "1.733",
           "1.999"
          ],
          [
           "1",
           "3",
           "4",
           "1.733",
           "1.999"
          ]
         ],
         "hoverlabel": {
          "font": {
           "family": "Rockwell",
           "size": 16
          }
         },
         "hovertemplate": "multiplicity: %{customdata[0]}<br>birth: %{customdata[1]},%{customdata[3]}<br>death: %{customdata[2]},%{customdata[4]}",
         "marker": {
          "color": [
           0,
           0
          ],
          "colorbar": {
           "ticktext": [
            "1",
            "10"
           ],
           "tickvals": [
            0,
            1
           ],
           "title": {
            "side": "top",
            "text": "multiplicity"
           }
          },
          "colorscale": [
           [
            0,
            "rgb(150,0,90)"
           ],
           [
            0.125,
            "rgb(0,0,200)"
           ],
           [
            0.25,
            "rgb(0,25,255)"
           ],
           [
            0.375,
            "rgb(0,152,255)"
           ],
           [
            0.5,
            "rgb(44,255,150)"
           ],
           [
            0.625,
            "rgb(151,255,0)"
           ],
           [
            0.75,
            "rgb(255,234,0)"
           ],
           [
            0.875,
            "rgb(255,111,0)"
           ],
           [
            1,
            "rgb(255,0,0)"
           ]
          ],
          "line": {
           "width": 0
          },
          "opacity": 1,
          "showscale": true,
          "size": [
           1,
           1
          ],
          "sizemin": 5,
          "sizemode": "area",
          "sizeref": 0.003472222222222222
         },
         "mode": "markers",
         "name": "",
         "showlegend": false,
         "type": "scatter",
         "x": [
          5,
          3
         ],
         "y": [
          3,
          5
         ]
        }
       ],
       "layout": {
        "font": {
         "family": "Rockwell",
         "size": 22
        },
        "height": 800,
        "legend": {
         "bgcolor": "WhiteSmoke",
         "bordercolor": "black",
         "borderwidth": 2,
         "font": {
          "family": "Courier",
          "size": 18
         },
         "itemsizing": "constant",
         "orientation": "h",
         "title": {
          "text": ""
         },
         "x": 0.95,
         "xanchor": "right",
         "y": 1.02,
         "yanchor": "bottom"
        },
        "margin": {
         "b": 20,
         "l": 20
        },
        "template": {
         "data": {
          "bar": [
           {
            "error_x": {
             "color": "#2a3f5f"
            },
            "error_y": {
             "color": "#2a3f5f"
            },
            "marker": {
             "line": {
              "color": "#E5ECF6",
              "width": 0.5
             },
             "pattern": {
              "fillmode": "overlay",
              "size": 10,
              "solidity": 0.2
             }
            },
            "type": "bar"
           }
          ],
          "barpolar": [
           {
            "marker": {
             "line": {
              "color": "#E5ECF6",
              "width": 0.5
             },
             "pattern": {
              "fillmode": "overlay",
              "size": 10,
              "solidity": 0.2
             }
            },
            "type": "barpolar"
           }
          ],
          "carpet": [
           {
            "aaxis": {
             "endlinecolor": "#2a3f5f",
             "gridcolor": "white",
             "linecolor": "white",
             "minorgridcolor": "white",
             "startlinecolor": "#2a3f5f"
            },
            "baxis": {
             "endlinecolor": "#2a3f5f",
             "gridcolor": "white",
             "linecolor": "white",
             "minorgridcolor": "white",
             "startlinecolor": "#2a3f5f"
            },
            "type": "carpet"
           }
          ],
          "choropleth": [
           {
            "colorbar": {
             "outlinewidth": 0,
             "ticks": ""
            },
            "type": "choropleth"
           }
          ],
          "contour": [
           {
            "colorbar": {
             "outlinewidth": 0,
             "ticks": ""
            },
            "colorscale": [
             [
              0,
              "#0d0887"
             ],
             [
              0.1111111111111111,
              "#46039f"
             ],
             [
              0.2222222222222222,
              "#7201a8"
             ],
             [
              0.3333333333333333,
              "#9c179e"
             ],
             [
              0.4444444444444444,
              "#bd3786"
             ],
             [
              0.5555555555555556,
              "#d8576b"
             ],
             [
              0.6666666666666666,
              "#ed7953"
             ],
             [
              0.7777777777777778,
              "#fb9f3a"
             ],
             [
              0.8888888888888888,
              "#fdca26"
             ],
             [
              1,
              "#f0f921"
             ]
            ],
            "type": "contour"
           }
          ],
          "contourcarpet": [
           {
            "colorbar": {
             "outlinewidth": 0,
             "ticks": ""
            },
            "type": "contourcarpet"
           }
          ],
          "heatmap": [
           {
            "colorbar": {
             "outlinewidth": 0,
             "ticks": ""
            },
            "colorscale": [
             [
              0,
              "#0d0887"
             ],
             [
              0.1111111111111111,
              "#46039f"
             ],
             [
              0.2222222222222222,
              "#7201a8"
             ],
             [
              0.3333333333333333,
              "#9c179e"
             ],
             [
              0.4444444444444444,
              "#bd3786"
             ],
             [
              0.5555555555555556,
              "#d8576b"
             ],
             [
              0.6666666666666666,
              "#ed7953"
             ],
             [
              0.7777777777777778,
              "#fb9f3a"
             ],
             [
              0.8888888888888888,
              "#fdca26"
             ],
             [
              1,
              "#f0f921"
             ]
            ],
            "type": "heatmap"
           }
          ],
          "heatmapgl": [
           {
            "colorbar": {
             "outlinewidth": 0,
             "ticks": ""
            },
            "colorscale": [
             [
              0,
              "#0d0887"
             ],
             [
              0.1111111111111111,
              "#46039f"
             ],
             [
              0.2222222222222222,
              "#7201a8"
             ],
             [
              0.3333333333333333,
              "#9c179e"
             ],
             [
              0.4444444444444444,
              "#bd3786"
             ],
             [
              0.5555555555555556,
              "#d8576b"
             ],
             [
              0.6666666666666666,
              "#ed7953"
             ],
             [
              0.7777777777777778,
              "#fb9f3a"
             ],
             [
              0.8888888888888888,
              "#fdca26"
             ],
             [
              1,
              "#f0f921"
             ]
            ],
            "type": "heatmapgl"
           }
          ],
          "histogram": [
           {
            "marker": {
             "pattern": {
              "fillmode": "overlay",
              "size": 10,
              "solidity": 0.2
             }
            },
            "type": "histogram"
           }
          ],
          "histogram2d": [
           {
            "colorbar": {
             "outlinewidth": 0,
             "ticks": ""
            },
            "colorscale": [
             [
              0,
              "#0d0887"
             ],
             [
              0.1111111111111111,
              "#46039f"
             ],
             [
              0.2222222222222222,
              "#7201a8"
             ],
             [
              0.3333333333333333,
              "#9c179e"
             ],
             [
              0.4444444444444444,
              "#bd3786"
             ],
             [
              0.5555555555555556,
              "#d8576b"
             ],
             [
              0.6666666666666666,
              "#ed7953"
             ],
             [
              0.7777777777777778,
              "#fb9f3a"
             ],
             [
              0.8888888888888888,
              "#fdca26"
             ],
             [
              1,
              "#f0f921"
             ]
            ],
            "type": "histogram2d"
           }
          ],
          "histogram2dcontour": [
           {
            "colorbar": {
             "outlinewidth": 0,
             "ticks": ""
            },
            "colorscale": [
             [
              0,
              "#0d0887"
             ],
             [
              0.1111111111111111,
              "#46039f"
             ],
             [
              0.2222222222222222,
              "#7201a8"
             ],
             [
              0.3333333333333333,
              "#9c179e"
             ],
             [
              0.4444444444444444,
              "#bd3786"
             ],
             [
              0.5555555555555556,
              "#d8576b"
             ],
             [
              0.6666666666666666,
              "#ed7953"
             ],
             [
              0.7777777777777778,
              "#fb9f3a"
             ],
             [
              0.8888888888888888,
              "#fdca26"
             ],
             [
              1,
              "#f0f921"
             ]
            ],
            "type": "histogram2dcontour"
           }
          ],
          "mesh3d": [
           {
            "colorbar": {
             "outlinewidth": 0,
             "ticks": ""
            },
            "type": "mesh3d"
           }
          ],
          "parcoords": [
           {
            "line": {
             "colorbar": {
              "outlinewidth": 0,
              "ticks": ""
             }
            },
            "type": "parcoords"
           }
          ],
          "pie": [
           {
            "automargin": true,
            "type": "pie"
           }
          ],
          "scatter": [
           {
            "fillpattern": {
             "fillmode": "overlay",
             "size": 10,
             "solidity": 0.2
            },
            "type": "scatter"
           }
          ],
          "scatter3d": [
           {
            "line": {
             "colorbar": {
              "outlinewidth": 0,
              "ticks": ""
             }
            },
            "marker": {
             "colorbar": {
              "outlinewidth": 0,
              "ticks": ""
             }
            },
            "type": "scatter3d"
           }
          ],
          "scattercarpet": [
           {
            "marker": {
             "colorbar": {
              "outlinewidth": 0,
              "ticks": ""
             }
            },
            "type": "scattercarpet"
           }
          ],
          "scattergeo": [
           {
            "marker": {
             "colorbar": {
              "outlinewidth": 0,
              "ticks": ""
             }
            },
            "type": "scattergeo"
           }
          ],
          "scattergl": [
           {
            "marker": {
             "colorbar": {
              "outlinewidth": 0,
              "ticks": ""
             }
            },
            "type": "scattergl"
           }
          ],
          "scattermapbox": [
           {
            "marker": {
             "colorbar": {
              "outlinewidth": 0,
              "ticks": ""
             }
            },
            "type": "scattermapbox"
           }
          ],
          "scatterpolar": [
           {
            "marker": {
             "colorbar": {
              "outlinewidth": 0,
              "ticks": ""
             }
            },
            "type": "scatterpolar"
           }
          ],
          "scatterpolargl": [
           {
            "marker": {
             "colorbar": {
              "outlinewidth": 0,
              "ticks": ""
             }
            },
            "type": "scatterpolargl"
           }
          ],
          "scatterternary": [
           {
            "marker": {
             "colorbar": {
              "outlinewidth": 0,
              "ticks": ""
             }
            },
            "type": "scatterternary"
           }
          ],
          "surface": [
           {
            "colorbar": {
             "outlinewidth": 0,
             "ticks": ""
            },
            "colorscale": [
             [
              0,
              "#0d0887"
             ],
             [
              0.1111111111111111,
              "#46039f"
             ],
             [
              0.2222222222222222,
              "#7201a8"
             ],
             [
              0.3333333333333333,
              "#9c179e"
             ],
             [
              0.4444444444444444,
              "#bd3786"
             ],
             [
              0.5555555555555556,
              "#d8576b"
             ],
             [
              0.6666666666666666,
              "#ed7953"
             ],
             [
              0.7777777777777778,
              "#fb9f3a"
             ],
             [
              0.8888888888888888,
              "#fdca26"
             ],
             [
              1,
              "#f0f921"
             ]
            ],
            "type": "surface"
           }
          ],
          "table": [
           {
            "cells": {
             "fill": {
              "color": "#EBF0F8"
             },
             "line": {
              "color": "white"
             }
            },
            "header": {
             "fill": {
              "color": "#C8D4E3"
             },
             "line": {
              "color": "white"
             }
            },
            "type": "table"
           }
          ]
         },
         "layout": {
          "annotationdefaults": {
           "arrowcolor": "#2a3f5f",
           "arrowhead": 0,
           "arrowwidth": 1
          },
          "autotypenumbers": "strict",
          "coloraxis": {
           "colorbar": {
            "outlinewidth": 0,
            "ticks": ""
           }
          },
          "colorscale": {
           "diverging": [
            [
             0,
             "#8e0152"
            ],
            [
             0.1,
             "#c51b7d"
            ],
            [
             0.2,
             "#de77ae"
            ],
            [
             0.3,
             "#f1b6da"
            ],
            [
             0.4,
             "#fde0ef"
            ],
            [
             0.5,
             "#f7f7f7"
            ],
            [
             0.6,
             "#e6f5d0"
            ],
            [
             0.7,
             "#b8e186"
            ],
            [
             0.8,
             "#7fbc41"
            ],
            [
             0.9,
             "#4d9221"
            ],
            [
             1,
             "#276419"
            ]
           ],
           "sequential": [
            [
             0,
             "#0d0887"
            ],
            [
             0.1111111111111111,
             "#46039f"
            ],
            [
             0.2222222222222222,
             "#7201a8"
            ],
            [
             0.3333333333333333,
             "#9c179e"
            ],
            [
             0.4444444444444444,
             "#bd3786"
            ],
            [
             0.5555555555555556,
             "#d8576b"
            ],
            [
             0.6666666666666666,
             "#ed7953"
            ],
            [
             0.7777777777777778,
             "#fb9f3a"
            ],
            [
             0.8888888888888888,
             "#fdca26"
            ],
            [
             1,
             "#f0f921"
            ]
           ],
           "sequentialminus": [
            [
             0,
             "#0d0887"
            ],
            [
             0.1111111111111111,
             "#46039f"
            ],
            [
             0.2222222222222222,
             "#7201a8"
            ],
            [
             0.3333333333333333,
             "#9c179e"
            ],
            [
             0.4444444444444444,
             "#bd3786"
            ],
            [
             0.5555555555555556,
             "#d8576b"
            ],
            [
             0.6666666666666666,
             "#ed7953"
            ],
            [
             0.7777777777777778,
             "#fb9f3a"
            ],
            [
             0.8888888888888888,
             "#fdca26"
            ],
            [
             1,
             "#f0f921"
            ]
           ]
          },
          "colorway": [
           "#636efa",
           "#EF553B",
           "#00cc96",
           "#ab63fa",
           "#FFA15A",
           "#19d3f3",
           "#FF6692",
           "#B6E880",
           "#FF97FF",
           "#FECB52"
          ],
          "font": {
           "color": "#2a3f5f"
          },
          "geo": {
           "bgcolor": "white",
           "lakecolor": "white",
           "landcolor": "#E5ECF6",
           "showlakes": true,
           "showland": true,
           "subunitcolor": "white"
          },
          "hoverlabel": {
           "align": "left"
          },
          "hovermode": "closest",
          "mapbox": {
           "style": "light"
          },
          "paper_bgcolor": "white",
          "plot_bgcolor": "#E5ECF6",
          "polar": {
           "angularaxis": {
            "gridcolor": "white",
            "linecolor": "white",
            "ticks": ""
           },
           "bgcolor": "#E5ECF6",
           "radialaxis": {
            "gridcolor": "white",
            "linecolor": "white",
            "ticks": ""
           }
          },
          "scene": {
           "xaxis": {
            "backgroundcolor": "#E5ECF6",
            "gridcolor": "white",
            "gridwidth": 2,
            "linecolor": "white",
            "showbackground": true,
            "ticks": "",
            "zerolinecolor": "white"
           },
           "yaxis": {
            "backgroundcolor": "#E5ECF6",
            "gridcolor": "white",
            "gridwidth": 2,
            "linecolor": "white",
            "showbackground": true,
            "ticks": "",
            "zerolinecolor": "white"
           },
           "zaxis": {
            "backgroundcolor": "#E5ECF6",
            "gridcolor": "white",
            "gridwidth": 2,
            "linecolor": "white",
            "showbackground": true,
            "ticks": "",
            "zerolinecolor": "white"
           }
          },
          "shapedefaults": {
           "line": {
            "color": "#2a3f5f"
           }
          },
          "ternary": {
           "aaxis": {
            "gridcolor": "white",
            "linecolor": "white",
            "ticks": ""
           },
           "baxis": {
            "gridcolor": "white",
            "linecolor": "white",
            "ticks": ""
           },
           "bgcolor": "#E5ECF6",
           "caxis": {
            "gridcolor": "white",
            "linecolor": "white",
            "ticks": ""
           }
          },
          "title": {
           "x": 0.05
          },
          "xaxis": {
           "automargin": true,
           "gridcolor": "white",
           "linecolor": "white",
           "ticks": "",
           "title": {
            "standoff": 15
           },
           "zerolinecolor": "white",
           "zerolinewidth": 2
          },
          "yaxis": {
           "automargin": true,
           "gridcolor": "white",
           "linecolor": "white",
           "ticks": "",
           "title": {
            "standoff": 15
           },
           "zerolinecolor": "white",
           "zerolinewidth": 2
          }
         }
        },
        "title": {
         "text": "D_a",
         "xanchor": "left",
         "yanchor": "top"
        },
        "width": 1200,
        "xaxis": {
         "constrain": "domain",
         "range": [
          -1.25,
          6.25
         ],
         "showticklabels": true,
         "tickmode": "array",
         "ticktext": [
          "1.50",
          "1.73",
          "1.73",
          "2.00",
          "2.00",
          "+inf "
         ],
         "tickvals": [
          1,
          2,
          3,
          4,
          5,
          6
         ],
         "title": {
          "text": ""
         },
         "zeroline": false
        },
        "yaxis": {
         "constrain": "domain",
         "range": [
          -1.25,
          6.25
         ],
         "scaleanchor": "x",
         "scaleratio": 1,
         "showticklabels": true,
         "tickmode": "array",
         "ticktext": [
          "1.50",
          "1.73",
          "1.73",
          "2.00",
          "2.00",
          "+inf "
         ],
         "tickvals": [
          1,
          2,
          3,
          4,
          5,
          6
         ],
         "title": {
          "text": ""
         },
         "zeroline": false
        }
       }
      }
     },
     "metadata": {},
     "output_type": "display_data"
    },
    {
     "data": {
      "application/vnd.plotly.v1+json": {
       "config": {
        "plotlyServerURL": "https://plot.ly"
       },
       "data": [
        {
         "hoverinfo": "none",
         "line": {
          "color": "LightSteelBlue",
          "dash": "dot",
          "width": 4
         },
         "mode": "lines",
         "showlegend": false,
         "type": "scatter",
         "x": [
          0,
          5
         ],
         "y": [
          0,
          5
         ]
        },
        {
         "customdata": [
          [
           "1",
           "3",
           "4",
           "1.733",
           "1.999"
          ],
          [
           "1",
           "3",
           "4",
           "1.733",
           "1.999"
          ]
         ],
         "hoverlabel": {
          "font": {
           "family": "Rockwell",
           "size": 16
          }
         },
         "hovertemplate": "multiplicity: %{customdata[0]}<br>birth: %{customdata[1]},%{customdata[3]}<br>death: %{customdata[2]},%{customdata[4]}",
         "marker": {
          "color": [
           0,
           0
          ],
          "colorbar": {
           "ticktext": [
            "1",
            "10"
           ],
           "tickvals": [
            0,
            1
           ],
           "title": {
            "side": "top",
            "text": "multiplicity"
           }
          },
          "colorscale": [
           [
            0,
            "rgb(150,0,90)"
           ],
           [
            0.125,
            "rgb(0,0,200)"
           ],
           [
            0.25,
            "rgb(0,25,255)"
           ],
           [
            0.375,
            "rgb(0,152,255)"
           ],
           [
            0.5,
            "rgb(44,255,150)"
           ],
           [
            0.625,
            "rgb(151,255,0)"
           ],
           [
            0.75,
            "rgb(255,234,0)"
           ],
           [
            0.875,
            "rgb(255,111,0)"
           ],
           [
            1,
            "rgb(255,0,0)"
           ]
          ],
          "line": {
           "width": 0
          },
          "opacity": 1,
          "showscale": true,
          "size": [
           1,
           1
          ],
          "sizemin": 5,
          "sizemode": "area",
          "sizeref": 0.003472222222222222
         },
         "mode": "markers",
         "name": "",
         "showlegend": false,
         "type": "scatter",
         "x": [
          5,
          3
         ],
         "y": [
          3,
          5
         ]
        }
       ],
       "layout": {
        "font": {
         "family": "Rockwell",
         "size": 22
        },
        "height": 800,
        "legend": {
         "bgcolor": "WhiteSmoke",
         "bordercolor": "black",
         "borderwidth": 2,
         "font": {
          "family": "Courier",
          "size": 18
         },
         "itemsizing": "constant",
         "orientation": "h",
         "title": {
          "text": ""
         },
         "x": 0.95,
         "xanchor": "right",
         "y": 1.02,
         "yanchor": "bottom"
        },
        "margin": {
         "b": 20,
         "l": 20
        },
        "template": {
         "data": {
          "bar": [
           {
            "error_x": {
             "color": "#2a3f5f"
            },
            "error_y": {
             "color": "#2a3f5f"
            },
            "marker": {
             "line": {
              "color": "#E5ECF6",
              "width": 0.5
             },
             "pattern": {
              "fillmode": "overlay",
              "size": 10,
              "solidity": 0.2
             }
            },
            "type": "bar"
           }
          ],
          "barpolar": [
           {
            "marker": {
             "line": {
              "color": "#E5ECF6",
              "width": 0.5
             },
             "pattern": {
              "fillmode": "overlay",
              "size": 10,
              "solidity": 0.2
             }
            },
            "type": "barpolar"
           }
          ],
          "carpet": [
           {
            "aaxis": {
             "endlinecolor": "#2a3f5f",
             "gridcolor": "white",
             "linecolor": "white",
             "minorgridcolor": "white",
             "startlinecolor": "#2a3f5f"
            },
            "baxis": {
             "endlinecolor": "#2a3f5f",
             "gridcolor": "white",
             "linecolor": "white",
             "minorgridcolor": "white",
             "startlinecolor": "#2a3f5f"
            },
            "type": "carpet"
           }
          ],
          "choropleth": [
           {
            "colorbar": {
             "outlinewidth": 0,
             "ticks": ""
            },
            "type": "choropleth"
           }
          ],
          "contour": [
           {
            "colorbar": {
             "outlinewidth": 0,
             "ticks": ""
            },
            "colorscale": [
             [
              0,
              "#0d0887"
             ],
             [
              0.1111111111111111,
              "#46039f"
             ],
             [
              0.2222222222222222,
              "#7201a8"
             ],
             [
              0.3333333333333333,
              "#9c179e"
             ],
             [
              0.4444444444444444,
              "#bd3786"
             ],
             [
              0.5555555555555556,
              "#d8576b"
             ],
             [
              0.6666666666666666,
              "#ed7953"
             ],
             [
              0.7777777777777778,
              "#fb9f3a"
             ],
             [
              0.8888888888888888,
              "#fdca26"
             ],
             [
              1,
              "#f0f921"
             ]
            ],
            "type": "contour"
           }
          ],
          "contourcarpet": [
           {
            "colorbar": {
             "outlinewidth": 0,
             "ticks": ""
            },
            "type": "contourcarpet"
           }
          ],
          "heatmap": [
           {
            "colorbar": {
             "outlinewidth": 0,
             "ticks": ""
            },
            "colorscale": [
             [
              0,
              "#0d0887"
             ],
             [
              0.1111111111111111,
              "#46039f"
             ],
             [
              0.2222222222222222,
              "#7201a8"
             ],
             [
              0.3333333333333333,
              "#9c179e"
             ],
             [
              0.4444444444444444,
              "#bd3786"
             ],
             [
              0.5555555555555556,
              "#d8576b"
             ],
             [
              0.6666666666666666,
              "#ed7953"
             ],
             [
              0.7777777777777778,
              "#fb9f3a"
             ],
             [
              0.8888888888888888,
              "#fdca26"
             ],
             [
              1,
              "#f0f921"
             ]
            ],
            "type": "heatmap"
           }
          ],
          "heatmapgl": [
           {
            "colorbar": {
             "outlinewidth": 0,
             "ticks": ""
            },
            "colorscale": [
             [
              0,
              "#0d0887"
             ],
             [
              0.1111111111111111,
              "#46039f"
             ],
             [
              0.2222222222222222,
              "#7201a8"
             ],
             [
              0.3333333333333333,
              "#9c179e"
             ],
             [
              0.4444444444444444,
              "#bd3786"
             ],
             [
              0.5555555555555556,
              "#d8576b"
             ],
             [
              0.6666666666666666,
              "#ed7953"
             ],
             [
              0.7777777777777778,
              "#fb9f3a"
             ],
             [
              0.8888888888888888,
              "#fdca26"
             ],
             [
              1,
              "#f0f921"
             ]
            ],
            "type": "heatmapgl"
           }
          ],
          "histogram": [
           {
            "marker": {
             "pattern": {
              "fillmode": "overlay",
              "size": 10,
              "solidity": 0.2
             }
            },
            "type": "histogram"
           }
          ],
          "histogram2d": [
           {
            "colorbar": {
             "outlinewidth": 0,
             "ticks": ""
            },
            "colorscale": [
             [
              0,
              "#0d0887"
             ],
             [
              0.1111111111111111,
              "#46039f"
             ],
             [
              0.2222222222222222,
              "#7201a8"
             ],
             [
              0.3333333333333333,
              "#9c179e"
             ],
             [
              0.4444444444444444,
              "#bd3786"
             ],
             [
              0.5555555555555556,
              "#d8576b"
             ],
             [
              0.6666666666666666,
              "#ed7953"
             ],
             [
              0.7777777777777778,
              "#fb9f3a"
             ],
             [
              0.8888888888888888,
              "#fdca26"
             ],
             [
              1,
              "#f0f921"
             ]
            ],
            "type": "histogram2d"
           }
          ],
          "histogram2dcontour": [
           {
            "colorbar": {
             "outlinewidth": 0,
             "ticks": ""
            },
            "colorscale": [
             [
              0,
              "#0d0887"
             ],
             [
              0.1111111111111111,
              "#46039f"
             ],
             [
              0.2222222222222222,
              "#7201a8"
             ],
             [
              0.3333333333333333,
              "#9c179e"
             ],
             [
              0.4444444444444444,
              "#bd3786"
             ],
             [
              0.5555555555555556,
              "#d8576b"
             ],
             [
              0.6666666666666666,
              "#ed7953"
             ],
             [
              0.7777777777777778,
              "#fb9f3a"
             ],
             [
              0.8888888888888888,
              "#fdca26"
             ],
             [
              1,
              "#f0f921"
             ]
            ],
            "type": "histogram2dcontour"
           }
          ],
          "mesh3d": [
           {
            "colorbar": {
             "outlinewidth": 0,
             "ticks": ""
            },
            "type": "mesh3d"
           }
          ],
          "parcoords": [
           {
            "line": {
             "colorbar": {
              "outlinewidth": 0,
              "ticks": ""
             }
            },
            "type": "parcoords"
           }
          ],
          "pie": [
           {
            "automargin": true,
            "type": "pie"
           }
          ],
          "scatter": [
           {
            "fillpattern": {
             "fillmode": "overlay",
             "size": 10,
             "solidity": 0.2
            },
            "type": "scatter"
           }
          ],
          "scatter3d": [
           {
            "line": {
             "colorbar": {
              "outlinewidth": 0,
              "ticks": ""
             }
            },
            "marker": {
             "colorbar": {
              "outlinewidth": 0,
              "ticks": ""
             }
            },
            "type": "scatter3d"
           }
          ],
          "scattercarpet": [
           {
            "marker": {
             "colorbar": {
              "outlinewidth": 0,
              "ticks": ""
             }
            },
            "type": "scattercarpet"
           }
          ],
          "scattergeo": [
           {
            "marker": {
             "colorbar": {
              "outlinewidth": 0,
              "ticks": ""
             }
            },
            "type": "scattergeo"
           }
          ],
          "scattergl": [
           {
            "marker": {
             "colorbar": {
              "outlinewidth": 0,
              "ticks": ""
             }
            },
            "type": "scattergl"
           }
          ],
          "scattermapbox": [
           {
            "marker": {
             "colorbar": {
              "outlinewidth": 0,
              "ticks": ""
             }
            },
            "type": "scattermapbox"
           }
          ],
          "scatterpolar": [
           {
            "marker": {
             "colorbar": {
              "outlinewidth": 0,
              "ticks": ""
             }
            },
            "type": "scatterpolar"
           }
          ],
          "scatterpolargl": [
           {
            "marker": {
             "colorbar": {
              "outlinewidth": 0,
              "ticks": ""
             }
            },
            "type": "scatterpolargl"
           }
          ],
          "scatterternary": [
           {
            "marker": {
             "colorbar": {
              "outlinewidth": 0,
              "ticks": ""
             }
            },
            "type": "scatterternary"
           }
          ],
          "surface": [
           {
            "colorbar": {
             "outlinewidth": 0,
             "ticks": ""
            },
            "colorscale": [
             [
              0,
              "#0d0887"
             ],
             [
              0.1111111111111111,
              "#46039f"
             ],
             [
              0.2222222222222222,
              "#7201a8"
             ],
             [
              0.3333333333333333,
              "#9c179e"
             ],
             [
              0.4444444444444444,
              "#bd3786"
             ],
             [
              0.5555555555555556,
              "#d8576b"
             ],
             [
              0.6666666666666666,
              "#ed7953"
             ],
             [
              0.7777777777777778,
              "#fb9f3a"
             ],
             [
              0.8888888888888888,
              "#fdca26"
             ],
             [
              1,
              "#f0f921"
             ]
            ],
            "type": "surface"
           }
          ],
          "table": [
           {
            "cells": {
             "fill": {
              "color": "#EBF0F8"
             },
             "line": {
              "color": "white"
             }
            },
            "header": {
             "fill": {
              "color": "#C8D4E3"
             },
             "line": {
              "color": "white"
             }
            },
            "type": "table"
           }
          ]
         },
         "layout": {
          "annotationdefaults": {
           "arrowcolor": "#2a3f5f",
           "arrowhead": 0,
           "arrowwidth": 1
          },
          "autotypenumbers": "strict",
          "coloraxis": {
           "colorbar": {
            "outlinewidth": 0,
            "ticks": ""
           }
          },
          "colorscale": {
           "diverging": [
            [
             0,
             "#8e0152"
            ],
            [
             0.1,
             "#c51b7d"
            ],
            [
             0.2,
             "#de77ae"
            ],
            [
             0.3,
             "#f1b6da"
            ],
            [
             0.4,
             "#fde0ef"
            ],
            [
             0.5,
             "#f7f7f7"
            ],
            [
             0.6,
             "#e6f5d0"
            ],
            [
             0.7,
             "#b8e186"
            ],
            [
             0.8,
             "#7fbc41"
            ],
            [
             0.9,
             "#4d9221"
            ],
            [
             1,
             "#276419"
            ]
           ],
           "sequential": [
            [
             0,
             "#0d0887"
            ],
            [
             0.1111111111111111,
             "#46039f"
            ],
            [
             0.2222222222222222,
             "#7201a8"
            ],
            [
             0.3333333333333333,
             "#9c179e"
            ],
            [
             0.4444444444444444,
             "#bd3786"
            ],
            [
             0.5555555555555556,
             "#d8576b"
            ],
            [
             0.6666666666666666,
             "#ed7953"
            ],
            [
             0.7777777777777778,
             "#fb9f3a"
            ],
            [
             0.8888888888888888,
             "#fdca26"
            ],
            [
             1,
             "#f0f921"
            ]
           ],
           "sequentialminus": [
            [
             0,
             "#0d0887"
            ],
            [
             0.1111111111111111,
             "#46039f"
            ],
            [
             0.2222222222222222,
             "#7201a8"
            ],
            [
             0.3333333333333333,
             "#9c179e"
            ],
            [
             0.4444444444444444,
             "#bd3786"
            ],
            [
             0.5555555555555556,
             "#d8576b"
            ],
            [
             0.6666666666666666,
             "#ed7953"
            ],
            [
             0.7777777777777778,
             "#fb9f3a"
            ],
            [
             0.8888888888888888,
             "#fdca26"
            ],
            [
             1,
             "#f0f921"
            ]
           ]
          },
          "colorway": [
           "#636efa",
           "#EF553B",
           "#00cc96",
           "#ab63fa",
           "#FFA15A",
           "#19d3f3",
           "#FF6692",
           "#B6E880",
           "#FF97FF",
           "#FECB52"
          ],
          "font": {
           "color": "#2a3f5f"
          },
          "geo": {
           "bgcolor": "white",
           "lakecolor": "white",
           "landcolor": "#E5ECF6",
           "showlakes": true,
           "showland": true,
           "subunitcolor": "white"
          },
          "hoverlabel": {
           "align": "left"
          },
          "hovermode": "closest",
          "mapbox": {
           "style": "light"
          },
          "paper_bgcolor": "white",
          "plot_bgcolor": "#E5ECF6",
          "polar": {
           "angularaxis": {
            "gridcolor": "white",
            "linecolor": "white",
            "ticks": ""
           },
           "bgcolor": "#E5ECF6",
           "radialaxis": {
            "gridcolor": "white",
            "linecolor": "white",
            "ticks": ""
           }
          },
          "scene": {
           "xaxis": {
            "backgroundcolor": "#E5ECF6",
            "gridcolor": "white",
            "gridwidth": 2,
            "linecolor": "white",
            "showbackground": true,
            "ticks": "",
            "zerolinecolor": "white"
           },
           "yaxis": {
            "backgroundcolor": "#E5ECF6",
            "gridcolor": "white",
            "gridwidth": 2,
            "linecolor": "white",
            "showbackground": true,
            "ticks": "",
            "zerolinecolor": "white"
           },
           "zaxis": {
            "backgroundcolor": "#E5ECF6",
            "gridcolor": "white",
            "gridwidth": 2,
            "linecolor": "white",
            "showbackground": true,
            "ticks": "",
            "zerolinecolor": "white"
           }
          },
          "shapedefaults": {
           "line": {
            "color": "#2a3f5f"
           }
          },
          "ternary": {
           "aaxis": {
            "gridcolor": "white",
            "linecolor": "white",
            "ticks": ""
           },
           "baxis": {
            "gridcolor": "white",
            "linecolor": "white",
            "ticks": ""
           },
           "bgcolor": "#E5ECF6",
           "caxis": {
            "gridcolor": "white",
            "linecolor": "white",
            "ticks": ""
           }
          },
          "title": {
           "x": 0.05
          },
          "xaxis": {
           "automargin": true,
           "gridcolor": "white",
           "linecolor": "white",
           "ticks": "",
           "title": {
            "standoff": 15
           },
           "zerolinecolor": "white",
           "zerolinewidth": 2
          },
          "yaxis": {
           "automargin": true,
           "gridcolor": "white",
           "linecolor": "white",
           "ticks": "",
           "title": {
            "standoff": 15
           },
           "zerolinecolor": "white",
           "zerolinewidth": 2
          }
         }
        },
        "title": {
         "text": "D_b",
         "xanchor": "left",
         "yanchor": "top"
        },
        "width": 1200,
        "xaxis": {
         "constrain": "domain",
         "range": [
          -1.25,
          6.25
         ],
         "showticklabels": true,
         "tickmode": "array",
         "ticktext": [
          "1.50",
          "1.73",
          "1.73",
          "2.00",
          "2.00",
          "+inf "
         ],
         "tickvals": [
          1,
          2,
          3,
          4,
          5,
          6
         ],
         "title": {
          "text": ""
         },
         "zeroline": false
        },
        "yaxis": {
         "constrain": "domain",
         "range": [
          -1.25,
          6.25
         ],
         "scaleanchor": "x",
         "scaleratio": 1,
         "showticklabels": true,
         "tickmode": "array",
         "ticktext": [
          "1.50",
          "1.73",
          "1.73",
          "2.00",
          "2.00",
          "+inf "
         ],
         "tickvals": [
          1,
          2,
          3,
          4,
          5,
          6
         ],
         "title": {
          "text": ""
         },
         "zeroline": false
        }
       }
      }
     },
     "metadata": {},
     "output_type": "display_data"
    }
   ],
   "source": [
    "from commutazzio.compute import ConnectedPersistenceDiagram\n",
    "from commutazzio.compute import CLInvariants\n",
    "from commutazzio.plot import ComplementaryTrianglesPlot as Visualizer\n",
    "\n",
    "inv_a=CLInvariants(filt_a)\n",
    "inv_b=CLInvariants(filt_b)\n",
    "inv_a.cPD_computation(homology_dim=1)\n",
    "inv_b.cPD_computation(homology_dim=1)\n",
    "cPD_a=inv_a.cPDs[0]\n",
    "cPD_b=inv_b.cPDs[0]\n",
    "fig_a=Visualizer(cPD=cPD_a,title=\"D_a\").render()\n",
    "fig_b=Visualizer(cPD=cPD_b,title=\"D_b\").render()\n",
    "fig_a.show() # Figure 14 (a-2) in the paper\n",
    "fig_b.show() # Figure 14 (b-2) in the paper"
   ]
  }
 ],
 "metadata": {
  "kernelspec": {
   "display_name": "Python 3 (ipykernel)",
   "language": "python",
   "name": "python3"
  },
  "language_info": {
   "codemirror_mode": {
    "name": "ipython",
    "version": 3
   },
   "file_extension": ".py",
   "mimetype": "text/x-python",
   "name": "python",
   "nbconvert_exporter": "python",
   "pygments_lexer": "ipython3",
   "version": "3.10.11"
  }
 },
 "nbformat": 4,
 "nbformat_minor": 5
}
