{
 "cells": [
  {
   "cell_type": "code",
   "execution_count": 4,
   "metadata": {},
   "outputs": [],
   "source": [
    "import numpy as np\n",
    "cl4_isoclasses_agg_array=np.array([ 1,  1,  2,  2,  3,  3,  4,  4,  1,  1,  2,  2,  3,  3,  1,  1,  2,\n",
    "        2,  1,  1,  2,  3,  4,  5,  4,  5,  6,  6,  7,  8,  3,  4,  5,  5,\n",
    "        6,  7,  4,  5,  6,  5,  2,  3,  4,  4,  5,  6,  3,  4,  5,  4,  2,\n",
    "        3,  4,  3,  2,  6,  7,  8,  9, 11, 10,  9,  8,  6,  7,  8,  7,  6,\n",
    "        8,  9, 10, 11,  9,  8,  7,  6])\n",
    "import numpy as np\n",
    "from functools import lru_cache\n",
    "from collections import OrderedDict\n",
    "from numba import njit\n",
    "\n",
    "\n",
    "@njit\n",
    "def logistic(x:np.array, d0:float):\n",
    "    return 1 / (1 + np.exp(-(x - d0)))"
   ]
  },
  {
   "cell_type": "code",
   "execution_count": 5,
   "metadata": {},
   "outputs": [
    {
     "data": {
      "text/plain": [
       "76"
      ]
     },
     "execution_count": 5,
     "metadata": {},
     "output_type": "execute_result"
    }
   ],
   "source": [
    "len(cl4_isoclasses_agg_array)"
   ]
  },
  {
   "cell_type": "code",
   "execution_count": 6,
   "metadata": {},
   "outputs": [],
   "source": [
    "# for d0 = 0,1,2,...,10, compute logistic(cl4_isoclasses_agg_array, d0)\n",
    "# and store the result as a 2d numpy array to a file,\n",
    "# d0=0 in row 0, d0=1 in row 1, etc.\n",
    "weights_precomputed = np.zeros((11,76))\n",
    "for d0 in range(11):\n",
    "    weights_precomputed[d0] = logistic(cl4_isoclasses_agg_array, d0)"
   ]
  },
  {
   "cell_type": "code",
   "execution_count": 10,
   "metadata": {},
   "outputs": [],
   "source": [
    "np.save('weights_precomputed.npy', weights_precomputed)"
   ]
  },
  {
   "cell_type": "code",
   "execution_count": null,
   "metadata": {},
   "outputs": [],
   "source": []
  }
 ],
 "metadata": {
  "kernelspec": {
   "display_name": "TDA",
   "language": "python",
   "name": "python3"
  },
  "language_info": {
   "codemirror_mode": {
    "name": "ipython",
    "version": 3
   },
   "file_extension": ".py",
   "mimetype": "text/x-python",
   "name": "python",
   "nbconvert_exporter": "python",
   "pygments_lexer": "ipython3",
   "version": "3.10.11"
  },
  "orig_nbformat": 4
 },
 "nbformat": 4,
 "nbformat_minor": 2
}
